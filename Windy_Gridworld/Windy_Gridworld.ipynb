{
 "cells": [
  {
   "cell_type": "markdown",
   "metadata": {},
   "source": [
    "# Baby Names\n",
    "## Aprendizaje de Máquina Avanzado\n",
    "### Proyecto Final Individual\n",
    "#### Fernanda Alcalá Durand\n",
    "\n",
    "En este proyecto, se programará un agente que aprenda a moverse dentro de una cuadrícula para encontrar la meta en el menor número de pasos."
   ]
  },
  {
   "cell_type": "code",
   "execution_count": 1,
   "metadata": {
    "collapsed": false
   },
   "outputs": [
    {
     "data": {
      "text/html": [
       "<script>jQuery(function() {if (jQuery(\"body.notebook_app\").length == 0) { jQuery(\".input_area\").toggle(); jQuery(\".prompt\").toggle();}});</script>"
      ]
     },
     "metadata": {},
     "output_type": "display_data"
    },
    {
     "data": {
      "text/html": [
       "<button onclick=\"jQuery('.input_area').toggle(); jQuery('.prompt').toggle();\">Mostrar código</button>"
      ]
     },
     "metadata": {},
     "output_type": "display_data"
    }
   ],
   "source": [
    "import IPython.core.display as di\n",
    "\n",
    "# This line will hide code by default when the notebook is exported as HTML\n",
    "di.display_html('<script>jQuery(function() {if (jQuery(\"body.notebook_app\").length == 0) { jQuery(\".input_area\").toggle(); jQuery(\".prompt\").toggle();}});</script>', raw=True)\n",
    "\n",
    "# This line will add a button to toggle visibility of code blocks, for use with the HTML export version\n",
    "di.display_html('''<button onclick=\"jQuery('.input_area').toggle(); jQuery('.prompt').toggle();\">Mostrar código</button>''', raw=True)"
   ]
  },
  {
   "cell_type": "code",
   "execution_count": 2,
   "metadata": {
    "collapsed": false
   },
   "outputs": [],
   "source": [
    "## IMPORTANT NOTE: THIS RUNS ON PYTHON 3\n",
    "\n",
    "# This is me trying to do a very baby version of this:\n",
    "# http://cs.stançford.edu/people/karpathy/reinforcejs/gridworld_td.html\n",
    "\n",
    "import numpy as np\n",
    "from numpy import random\n",
    "%matplotlib inline\n",
    "import matplotlib\n",
    "from matplotlib import pyplot as plt"
   ]
  },
  {
   "cell_type": "code",
   "execution_count": 3,
   "metadata": {
    "collapsed": true
   },
   "outputs": [],
   "source": [
    "########## NECESSARY PARAMETERS ##########\n",
    "#### World parameters\n",
    "world_width = 7\n",
    "world_length = 10\n",
    "start = (3,0)\n",
    "goal = (3,7)\n",
    "# don't know about this one\n",
    "goal_reward = 100\n",
    "#### Learning parameters\n",
    "gam = 0.9\n",
    "# don't know about this one\n",
    "max_iter = 100"
   ]
  },
  {
   "cell_type": "code",
   "execution_count": 4,
   "metadata": {
    "collapsed": true
   },
   "outputs": [],
   "source": [
    "########## CREATE ENVIRONMENT ##########\n",
    "\n",
    "########### WIND\n",
    "wind_matrix = np.zeros((world_width,world_length))\n",
    "\n",
    "#values for each one of the columns\n",
    "wind_values = (0,0,0,1,1,1,2,1,-1,0)\n",
    "\n",
    "for i in range(len(wind_values)):\n",
    "    x = np.ones(world_width) * wind_values[i]\n",
    "    wind_matrix[:,i] = x\n",
    "\n",
    "##########\n",
    "#reward matrix\n",
    "r_matrix = np.zeros((world_width,world_length))\n",
    "r_matrix[goal] = goal_reward  #this is the only info we have at the beginning\n",
    "#movement matrix\n",
    "m_matrix = np.chararray((world_width,world_length))\n",
    "m_matrix[goal] = ('X')  #this is the only info we have at the beginning"
   ]
  },
  {
   "cell_type": "markdown",
   "metadata": {},
   "source": [
    "## ¿Cómo se ve el mundo al comenzar?\n",
    "\n",
    "Lo único que conocemos en este momento es que la posición que asignamos como \"goal\" tiene recompensa. El agente no sabe esto: lo único que sabe es que tiene que encontrar un policy que maximice su valor."
   ]
  },
  {
   "cell_type": "code",
   "execution_count": 5,
   "metadata": {
    "collapsed": false
   },
   "outputs": [
    {
     "data": {
      "image/png": "[encoded data removed]",
      "text/plain": [
       "<matplotlib.figure.Figure at 0x7f436eb0f2e8>"
      ]
     },
     "metadata": {},
     "output_type": "display_data"
    }
   ],
   "source": [
    "heatmap = plt.pcolor(r_matrix,cmap=matplotlib.cm.Blues)\n"
   ]
  },
  {
   "cell_type": "code",
   "execution_count": 6,
   "metadata": {
    "collapsed": true
   },
   "outputs": [],
   "source": [
    "########## DEFINING ACTORS AND ENVIRONMENT, AND HOW THEY INTERACT ##########\n",
    "\n",
    "# Divide the world in squares and define rules about how to move - this includes the wind\n",
    "\n",
    "class Square:\n",
    "    def __init__(self,x,y):\n",
    "        self.x = x\n",
    "        self.y = y\n",
    "        self.wind = int(wind_matrix[x,y])\n",
    "\n",
    "# Possible actions\n",
    "possible_actions = [ 'N', 'E', 'S', 'W' , 'X']   #X means don't move   \n",
    "              \n",
    "# Convert [ N, E, S, W ] to actual coordi      \n",
    "def convertAction(action):\n",
    "    if(action == 'N'):\n",
    "        return Square(0,1)\n",
    "    elif(action == 'E'):\n",
    "        return Square(1,0)\n",
    "    elif(action == 'S'):\n",
    "        return Square(0,-1)\n",
    "    elif(action == 'W'):\n",
    "        return Square(-1,0)\n",
    "    else:\n",
    "        return Square(0,0)\n",
    "\n",
    "#let's see how the agent moves on the grid    \n",
    "def moveAgent(from_sq,action):\n",
    "    \n",
    "    movement = convertAction(action) # action is a char, see convertAction\n",
    "\n",
    "    to_sq = Square(from_sq.x + movement.x , from_sq.y + movement.y)\n",
    "    \n",
    "    #if it tries to leave the grid, it stays on the square where it was\n",
    "    if( (to_sq.x < 0) or (to_sq.x + 1 > world_width) or (to_sq.y < 0) or (to_sq.y +1 > world_length) ):\n",
    "        moves_to = from_sq\n",
    "        \n",
    "    #wind can't take it out of the grid\n",
    "    elif( to_sq.y + to_sq.wind + 1 > world_width):\n",
    "        to_sq.y = world_width\n",
    "        moves_to = to_sq\n",
    "        \n",
    "    #else, we sum the value of wind to the y coordinate\n",
    "    else:\n",
    "        to_sq.y = to_sq.y + to_sq.wind\n",
    "        moves_to = to_sq\n",
    "        \n",
    "    return moves_to\n",
    "\n",
    "#get max reward for all possible actions\n",
    "def maxReward(state):\n",
    "    all_rewards = np.zeros(len(possible_actions))\n",
    "    rewards_for_index = []\n",
    "    \n",
    "    for i in range(len(possible_actions)):\n",
    "        moved_to = moveAgent( state, possible_actions[i] )\n",
    "        reward = r_matrix[moved_to.x,moved_to.y]\n",
    "        all_rewards[i] = reward\n",
    "        rewards_for_index.append(reward)\n",
    "        \n",
    "    max_reward = max(all_rewards)\n",
    "    \n",
    "    best_action_index = rewards_for_index.index(max_reward)\n",
    "    best_action = possible_actions[best_action_index]\n",
    "    \n",
    "    return max_reward, best_action"
   ]
  },
  {
   "cell_type": "markdown",
   "metadata": {},
   "source": [
    "# Q- Learning\n",
    "\n",
    "Hagamos que el agente explore y aprenda qué acción tiene que tomar en cada una de las casillas."
   ]
  },
  {
   "cell_type": "code",
   "execution_count": 7,
   "metadata": {
    "collapsed": true
   },
   "outputs": [],
   "source": [
    "# How rewards are updated\n",
    "# Q(state, action) = R(state, action) + Gamma * max[Q(next state, all actions)]\n",
    "def Q(state,action):\n",
    "    \n",
    "    if(state == goal):   #if he's at the goal, Q value doesn't update and he doesn't look for actions afterwards\n",
    "        Q_value = goal_reward\n",
    "        best_action = (0,0)\n",
    "    \n",
    "    else:\n",
    "        state_Square = Square( state[0] , state[1] )\n",
    "    \n",
    "        max_reward,best_action = maxReward(state_Square)\n",
    "    \n",
    "        if r_matrix[state] == 0:\n",
    "            Q_value = r_matrix[state] + gam * max_reward\n",
    "        else:\n",
    "            Q_value = r_matrix[state]\n",
    "        \n",
    "        r_matrix[state] = Q_value  #reward matrix is updated\n",
    "        m_matrix[state] = best_action #same for movement matrix\n",
    "    \n",
    "    return Q_value"
   ]
  },
  {
   "cell_type": "code",
   "execution_count": 8,
   "metadata": {
    "collapsed": false
   },
   "outputs": [],
   "source": [
    "for k in range(max_iter):\n",
    "    for i in range(6):\n",
    "        for j in range(9):\n",
    "            Q( (i,j), 'N' )"
   ]
  },
  {
   "cell_type": "code",
   "execution_count": 9,
   "metadata": {
    "collapsed": false
   },
   "outputs": [
    {
     "data": {
      "image/png": "[encoded data removed]",
      "text/plain": [
       "<matplotlib.figure.Figure at 0x7f436c6905f8>"
      ]
     },
     "metadata": {},
     "output_type": "display_data"
    }
   ],
   "source": [
    "heatmap = plt.pcolor(r_matrix,cmap=matplotlib.cm.Blues)\n"
   ]
  },
  {
   "cell_type": "markdown",
   "metadata": {},
   "source": [
    "La matriz de movimientos indicados sería la siguiente. Recordemos que cada entrada nos muestra la mejor acción a tomar, suponiendo que el agente se encuentra en esa casilla. X marks the spot!"
   ]
  },
  {
   "cell_type": "code",
   "execution_count": 10,
   "metadata": {
    "collapsed": false
   },
   "outputs": [
    {
     "name": "stdout",
     "output_type": "stream",
     "text": [
      "[[b'N' b'N' b'N' b'N' b'E' b'E' b'E' b'E' b'E' b'\\xed']\n",
      " [b'N' b'N' b'N' b'N' b'N' b'E' b'E' b'E' b'E' b'\\x8c']\n",
      " [b'N' b'N' b'N' b'N' b'N' b'N' b'E' b'E' b'E' b'\\x7f']\n",
      " [b'N' b'N' b'N' b'N' b'N' b'N' b'N' b'X' b'N' '']\n",
      " [b'N' b'N' b'N' b'N' b'N' b'N' b'W' b'W' b'W' b'-']\n",
      " [b'N' b'N' b'N' b'N' b'N' b'W' b'W' b'W' b'W' b'\\x95']\n",
      " [b'C' b'\\x7f' '' '' b'P' '' '' '' '' '']]\n"
     ]
    }
   ],
   "source": [
    "print(m_matrix)"
   ]
  },
  {
   "cell_type": "markdown",
   "metadata": {},
   "source": [
    "# Policy Iteration"
   ]
  },
  {
   "cell_type": "code",
   "execution_count": 24,
   "metadata": {
    "collapsed": false
   },
   "outputs": [],
   "source": [
    "# How policy is updated\n",
    "def Pi(start,goal):\n",
    "    \n",
    "    state_Square = Square( start[0] , start[1] )\n",
    "    goal_Square = Square( goal[0] , goal[1] )\n",
    "    tries = 0\n",
    "    policy = []\n",
    "    discounted_rewards = []\n",
    "    \n",
    "    print(\"El agente empieza en (\", state_Square.x,\",\",state_Square.y, \")\")\n",
    "    \n",
    "    while(state_Square != goal_Square and (tries < 20)):\n",
    "\n",
    "        acciones = ['N','S','E','W']\n",
    "        \n",
    "        try:\n",
    "            derecha = r_matrix[state_Square.x,state_Square.y+1]\n",
    "        except: \n",
    "          pass \n",
    "        try:\n",
    "            izquierda = r_matrix[state_Square.x,state_Square.y-1]\n",
    "        except: \n",
    "          pass\n",
    "        try:\n",
    "            arriba = r_matrix[state_Square.x-1,state_Square.y]\n",
    "        except: \n",
    "          pass \n",
    "        try:\n",
    "            abajo = r_matrix[state_Square.x+1,state_Square.y]\n",
    "        except: \n",
    "          pass\n",
    "           \n",
    "        rewards = (arriba,abajo,derecha+1,izquierda)\n",
    "        \n",
    "        biggest_reward = max(rewards)\n",
    "        best_action = acciones[rewards.index(biggest_reward)]\n",
    "    \n",
    "        discounted_rewards.append(biggest_reward)\n",
    "        policy.append(best_action)\n",
    "        \n",
    "        #exploracion contra explotacion\n",
    "        p = np.random.uniform(0,1,1)\n",
    "        if p > 0.5:\n",
    "            try:\n",
    "                state_Square = moveAgent(state_Square,best_action)\n",
    "            except:\n",
    "                pass\n",
    "        else:\n",
    "            try:\n",
    "                state_Square = moveAgent(state_Square,random.choice(acciones))\n",
    "            except:\n",
    "                pass\n",
    "                \n",
    "\n",
    "        print(\"El agente se mueve a (\", state_Square.x,\",\",state_Square.y, \")\")\n",
    "        \n",
    "        tries = tries +1\n",
    "\n",
    "    print(\"El agente obtiene la recompensa (\", discounted_rewards[tries-1] ,\")\")\n",
    "    \n",
    "    return discounted_rewards, policy"
   ]
  },
  {
   "cell_type": "markdown",
   "metadata": {},
   "source": [
    "La policy óptima que pudo encontrar el agente fue:"
   ]
  },
  {
   "cell_type": "code",
   "execution_count": 25,
   "metadata": {
    "collapsed": false
   },
   "outputs": [
    {
     "name": "stdout",
     "output_type": "stream",
     "text": [
      "El agente empieza en ( 3 , 0 )\n",
      "El agente se mueve a ( 4 , 0 )\n",
      "El agente se mueve a ( 5 , 0 )\n",
      "El agente se mueve a ( 6 , 0 )\n",
      "El agente se mueve a ( 6 , 0 )\n",
      "El agente se mueve a ( 6 , 0 )\n",
      "El agente se mueve a ( 6 , 1 )\n",
      "El agente se mueve a ( 6 , 1 )\n",
      "El agente se mueve a ( 6 , 2 )\n",
      "El agente se mueve a ( 6 , 4 )\n",
      "El agente se mueve a ( 6 , 6 )\n",
      "El agente se mueve a ( 6 , 7 )\n",
      "El agente se mueve a ( 6 , 7 )\n",
      "El agente se mueve a ( 5 , 7 )\n",
      "El agente se mueve a ( 4 , 7 )\n",
      "El agente se mueve a ( 5 , 7 )\n",
      "El agente se mueve a ( 4 , 7 )\n",
      "El agente se mueve a ( 4 , 7 )\n",
      "El agente se mueve a ( 4 , 7 )\n",
      "El agente se mueve a ( 4 , 7 )\n",
      "El agente se mueve a ( 4 , 7 )\n",
      "El agente obtiene la recompensa ( 100.0 )\n"
     ]
    }
   ],
   "source": [
    "rewards,policy = Pi(start,goal)"
   ]
  }
 ],
 "metadata": {
  "kernelspec": {
   "display_name": "Python 3",
   "language": "python",
   "name": "python3"
  },
  "language_info": {
   "codemirror_mode": {
    "name": "ipython",
    "version": 3
   },
   "file_extension": ".py",
   "mimetype": "text/x-python",
   "name": "python",
   "nbconvert_exporter": "python",
   "pygments_lexer": "ipython3",
   "version": "3.5.1"
  }
 },
 "nbformat": 4,
 "nbformat_minor": 0
}
