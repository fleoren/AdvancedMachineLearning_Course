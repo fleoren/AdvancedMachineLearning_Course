{
 "cells": [
  {
   "cell_type": "code",
   "execution_count": 1,
   "metadata": {
    "collapsed": true
   },
   "outputs": [],
   "source": [
    "# Important! This notebook runs on Python 3\n",
    "\n",
    "import pandas as pd\n",
    "import numpy as np\n",
    "from numpy import random"
   ]
  },
  {
   "cell_type": "code",
   "execution_count": 2,
   "metadata": {
    "collapsed": false
   },
   "outputs": [],
   "source": [
    "# Necessary world information\n",
    "\n",
    "# Prices and Costs\n",
    "# Prices of one beer at each level of the supply chain.\n",
    "retail_price = 10\n",
    "wholesale_price = 9\n",
    "regional_warehouse_price = 8\n",
    "factory_price = 7\n",
    "field_price = 6\n",
    "# Cost of holding one beer during one day on warehouse.\n",
    "# Assumed to be the same for all levels\n",
    "warehouse_price = 0.5\n",
    "# Cost of backlog: non fulfilled orders\n",
    "backlog_cost = 0.5\n",
    "\n",
    "# Initial Inventories\n",
    "retail_ininv = 100\n",
    "wholesale_ininv = 100\n",
    "regional_warehouse_ininv = 100\n",
    "factory_ininv = 100\n",
    "\n",
    "# Necessary customer demand and field supply trends\n",
    "# Customer demand will be added a small random effect each time\n",
    "# Field will stay non-random\n",
    "#customer_demand = pd.read_csv(beer_customer_demand.csv)\n",
    "#field_supply = pd.read_csv(beer_field_supply.csv)"
   ]
  },
  {
   "cell_type": "code",
   "execution_count": 9,
   "metadata": {
    "collapsed": false
   },
   "outputs": [],
   "source": [
    "class Customer:\n",
    "    \"\"\"\n",
    "    This type of agent doesn't learn, just interacts with Retail by demanding beer\n",
    "    \"\"\"\n",
    "    def __init__(demand_trend):\n",
    "        self.demand = demand_trend\n",
    "\n",
    "class Fields:\n",
    "    \"\"\"\n",
    "    This type of agent doesn't learn, just interacts with Factory by supplying beer\n",
    "    \"\"\"\n",
    "    def __init__(supply_trend):\n",
    "        self.supply = supply_trend    \n",
    "\n",
    "class Agent:\n",
    "    \"\"\"\n",
    "    Creates a Beer Supply Chain Agent ready to start interacting\n",
    "    with other agents and learn.\n",
    "    input:\n",
    "    * name (string) indicating the type of agent, can be one of four:\n",
    "    {Retail,Wholesale,Regional_Warehouse,Factory} \n",
    "    * inventory (numeric) starting inventory at day 1 \n",
    "    output: an object of type Agent\n",
    "    \"\"\"\n",
    "    def __init__(self,name,inventory):\n",
    "        \n",
    "        # I am letting different levels have different selling and buying prices\n",
    "        # This could also include different warehousing/backlogs costs\n",
    "        if name == \"Retail\":\n",
    "            self.selling_price = retail_price\n",
    "            self.buying_price = wholesale_price\n",
    "            self.downstream_agent =  \"\"# customer (fixed, not an agent)\n",
    "            self.upstream_agent =  \"\"# wholesale\n",
    "        elif name == \"Wholesale\":\n",
    "            self.selling_price = wholesale_price\n",
    "            self.buying_price = regional_warehouse_price\n",
    "            self.downstream_agent =  \"\"# retail\n",
    "            self.upstream_agent =  \"\"# regional_warehouse\n",
    "        elif name == \"Regional_Warehouse\":\n",
    "            self.selling_price = regional_warehouse_price\n",
    "            self.buying_price = factory_price\n",
    "            self.downstream_agent =  \"\"# wholesale\n",
    "            self.upstream_agent =  \"\"# factory\n",
    "        elif name == \"Factory\":\n",
    "            self.selling_price = factory_price\n",
    "            self.buying_price = field_price\n",
    "            self.downstream_agent =  \"\"# regional_warehouse\n",
    "            self.upstream_agent =  \"\"# fields (fixed, not an agent)\n",
    "        \n",
    "        self.name = name\n",
    "        self.inventory = inventory\n",
    "        self.total_warehousing_costs = 0\n",
    "        self.total_money = 0\n",
    "        self.backlog = 0\n",
    "        self.current_policy = []\n",
    "        self.current_payout = []\n",
    "        self.best_policy = [0] * 365\n",
    "        self.best_payout = [0] * 365\n",
    "    \n",
    "    def pay_for_warehousing(self):\n",
    "        # Pays for warehousing of inventory: must be done either\n",
    "        # \"first thing in the morning\" or \"last time in the night\"\n",
    "        self.total_money = self.total_money - \\\n",
    "                self.inventory * warehouse_price\n",
    "    \n",
    "    def receive_upstream(self,orders):\n",
    "        # Receives orders from upstream agent first thing in the morning\n",
    "        self.inventory = self.inventory + orders\n",
    "        self.total_money = self.total_money - \\\n",
    "                orders * self.buying_price\n",
    "        \n",
    "    def give_downstream(self,orders):\n",
    "        # Checks if he has availability to fulfill order,\n",
    "        # fulfills as much as he can\n",
    "        if self.inventory >= orders:\n",
    "            self.total_money = self.total_money + \\\n",
    "                orders * self.selling_price\n",
    "            self.inventory = self.inventory - orders\n",
    "            return orders\n",
    "        else:\n",
    "            orders_that_could_be_fulfilled = self.inventory\n",
    "            # Sells all its inventory\n",
    "            self.total_money = self.total_money + \\\n",
    "                self.inventory * self.selling_price\n",
    "            # If there were non fulfilled orders, those cause a penalty\n",
    "            self.backlog = (orders - self.inventory) * backlog_cost\n",
    "            self.inventory = 0\n",
    "            return orders_that_could_be_fulfilled"
   ]
  },
  {
   "cell_type": "code",
   "execution_count": 10,
   "metadata": {
    "collapsed": false
   },
   "outputs": [
    {
     "ename": "NameError",
     "evalue": "name 'customer' is not defined",
     "output_type": "error",
     "traceback": [
      "\u001b[0;31m---------------------------------------------------------------------------\u001b[0m",
      "\u001b[0;31mNameError\u001b[0m                                 Traceback (most recent call last)",
      "\u001b[0;32m<ipython-input-10-b85578bc3ca2>\u001b[0m in \u001b[0;36m<module>\u001b[0;34m()\u001b[0m\n\u001b[1;32m      6\u001b[0m \u001b[0;34m\u001b[0m\u001b[0m\n\u001b[1;32m      7\u001b[0m \u001b[0;31m# Assigning interactions\u001b[0m\u001b[0;34m\u001b[0m\u001b[0;34m\u001b[0m\u001b[0m\n\u001b[0;32m----> 8\u001b[0;31m \u001b[0mretail_agent\u001b[0m\u001b[0;34m.\u001b[0m\u001b[0mdownstream_agent\u001b[0m \u001b[0;34m=\u001b[0m \u001b[0mcustomer\u001b[0m\u001b[0;34m\u001b[0m\u001b[0m\n\u001b[0m\u001b[1;32m      9\u001b[0m \u001b[0mretail_agent\u001b[0m\u001b[0;34m.\u001b[0m\u001b[0mupstream_agent\u001b[0m \u001b[0;34m=\u001b[0m \u001b[0mwholesale_agent\u001b[0m\u001b[0;34m\u001b[0m\u001b[0m\n\u001b[1;32m     10\u001b[0m \u001b[0mwholesale_agent\u001b[0m\u001b[0;34m.\u001b[0m\u001b[0mdownstream_agent\u001b[0m \u001b[0;34m=\u001b[0m \u001b[0mretail_agent\u001b[0m\u001b[0;34m\u001b[0m\u001b[0m\n",
      "\u001b[0;31mNameError\u001b[0m: name 'customer' is not defined"
     ]
    }
   ],
   "source": [
    "# Creating Supply Chain Agents\n",
    "customer_agent = Customer(customer_demand)\n",
    "retail_agent = Agent(\"Retail\", retail_ininv)\n",
    "wholesale_agent = Agent(\"Wholesale\", wholesale_ininv)\n",
    "regional_warehouse_agent = Agent(\"Regional_Warehouse\", regional_warehouse_ininv)\n",
    "factory_agent = Agent(\"Factory\",factory_ininv)\n",
    "fields_agent = Fields(field_supply)\n",
    "\n",
    "# Assigning interactions\n",
    "retail_agent.downstream_agent = customer_agent\n",
    "retail_agent.upstream_agent = wholesale_agent\n",
    "wholesale_agent.downstream_agent = retail_agent\n",
    "wholesale_agent.upstream_agent = regional_warehouse_agent\n",
    "regional_warehouse_agent.downstream_agent = wholesale_agent\n",
    "regional_warehouse_agent.upstream_agent = factory_agent\n",
    "factory_agent.downstream_agent = regional_warehouse_agent\n",
    "factory_agent.upstream_agent = fields_agent"
   ]
  },
  {
   "cell_type": "code",
   "execution_count": 6,
   "metadata": {
    "collapsed": false
   },
   "outputs": [],
   "source": [
    "# THIS CELL IS HARDCODED BUT TRENDS COME FROM A CSV\n",
    "\n",
    "# One day of transactions\n",
    "# Hardcoding these since I'm only testing the functions on day 1 - need to create a seasonality csv for them\n",
    "customer_demand = 51\n",
    "field_supply = 60\n",
    "\n",
    "# AND DEMANDS ARE WHAT THE AGENTS WANT TO LEARN. HARCODING TO TRY OUT FUNCTIONS BUT THIS IS NOT HOW IT WILL WORK\n",
    "\n",
    "# Demands come from time t-1\n",
    "retail_demand = customer_demand  # hardcoded, just a madeup number\n",
    "wholesale_demand = retail_demand + 25  # hardcoded, just a madeup number\n",
    "regional_warehouse_demand = wholesale_demand + 25  # hardcoded, just a madeup number\n",
    "factory_demand = regional_warehouse_demand - 25  # hardcoded, just a madeup number"
   ]
  },
  {
   "cell_type": "code",
   "execution_count": null,
   "metadata": {
    "collapsed": false
   },
   "outputs": [],
   "source": [
    "# Everyone pays for warehousing overnight\n",
    "factory_agent.pay_for_warehousing\n",
    "regional_warehouse_agent.pay_for_warehousing\n",
    "wholesale_agent.pay_for_warehousing\n",
    "retail_agent.pay_for_warehousing\n",
    "\n",
    "# Orders are fulfilled first time in the morning\n",
    "# Everyone gets their shippings at the same time\n",
    "\n",
    "fulfilled_to_factory = field_supply\n",
    "factory_agent.receive_upstream(fulfilled_to_factory)\n",
    "\n",
    "fulfilled_to_regional_warehouse = factory_agent.give_downstream(regional_warehouse_demand)\n",
    "regional_warehouse_agent.receive_upstream(fulfilled_to_regional_warehouse)\n",
    "\n",
    "fulfilled_to_wholesale = regional_warehouse_agent.give_downstream(wholesale_demand)\n",
    "wholesale_agent.receive_upstream(fulfilled_to_wholesale)\n",
    "\n",
    "fulfilled_to_retail = wholesale_agent.give_downstream(retail_demand)\n",
    "retail_agent.receive_upstream(fulfilled_to_retail)\n",
    "\n",
    "fulfilled_to_customer = retail_agent.give_downstream(customer_demand)"
   ]
  },
  {
   "cell_type": "code",
   "execution_count": null,
   "metadata": {
    "collapsed": false
   },
   "outputs": [],
   "source": [
    "print('Retail agent asked for ' + str(retail_demand) + ' and received ' + str(fulfilled_to_retail))\n",
    "print('Wholesale agent asked for ' + str(wholesale_demand) + ' and received ' + str(fulfilled_to_wholesale))\n",
    "print('Regional Warehouse agent asked for ' + str(regional_warehouse_demand) + ' and received ' + str(fulfilled_to_regional_warehouse))\n",
    "print('Factory agent asked for ' + str(factory_demand) + ' and received ' + str(fulfilled_to_factory))"
   ]
  },
  {
   "cell_type": "markdown",
   "metadata": {},
   "source": [
    "# Policy Iteration\n",
    "\n",
    "This is still work in progress"
   ]
  },
  {
   "cell_type": "code",
   "execution_count": null,
   "metadata": {
    "collapsed": false
   },
   "outputs": [],
   "source": [
    "\n",
    "total_epochs = 10000\n",
    "\n",
    "\n",
    "# TODO create a function that doesn't learn, only\n",
    "# asks on t for what the downstream agent asked for on t-1\n",
    "def order_by_the_day(agent,day):\n",
    "    return agent.downstream_agent.current_policy[day]\n",
    "\n",
    "def create_demand(day):\n",
    "    x = np.random.uniform(0, 1)\n",
    "    if x < p_exploration:  # exploRation\n",
    "        return random.randint(0,1000)  # TODO check if is 1,000 a good number?\n",
    "    else:  # exploRation\n",
    "        return agent.best_policy(day)\n",
    "\n",
    "# POLICY ITERATION  ----------------------------------------------------------------  \n",
    "    \n",
    "for j in range(total_epochs):  # 10000 epochs, need to find a better way to constraint\n",
    "    p_exploration = (total_epochs - j) / total_epochs  # starts in 1 ends in 0\n",
    "    for day in range(365):  # one year\n",
    "        for agent in agents:\n",
    "            # PART 1\n",
    "            # Transactions for previous day happen. These are fixed.\n",
    "            # Paying for warehousing overnight\n",
    "            agent.pay_for_warehousing\n",
    "            # Orders are fulfilled first time in the morning\n",
    "            # TODO: WRAP THESE TRANSACTIONS INTO THE AGENT CLASS - somehow predetermine the upstream and downstream actors\n",
    "            # Everyone gets their shippings at the same time\n",
    "            # Factory\n",
    "            fulfilled_to_factory = field_supply\n",
    "            factory_agent.receive_upstream(fulfilled_to_factory)\n",
    "            # Regional Warehouse\n",
    "            fulfilled_to_regional_warehouse = factory_agent.give_downstream(regional_warehouse_demand)\n",
    "            regional_warehouse_agent.receive_upstream(fulfilled_to_regional_warehouse)\n",
    "            # Wholesale\n",
    "            fulfilled_to_wholesale = regional_warehouse_agent.give_downstream(wholesale_demand)\n",
    "            wholesale_agent.receive_upstream(fulfilled_to_wholesale)\n",
    "            # Retail\n",
    "            fulfilled_to_retail = wholesale_agent.give_downstream(retail_demand)\n",
    "            retail_agent.receive_upstream(fulfilled_to_retail)\n",
    "            # Customer\n",
    "            fulfilled_to_customer = retail_agent.give_downstream(customer_demand)\n",
    "            # How much money did the agent end up with yesterday's decisions?\n",
    "            agent.current_payout.append(agent.total_money)\n",
    "            # PART 2\n",
    "            # Agent decides demand for today, which will (might) be fulfilled tomorrow\n",
    "            agent_demand = create_demand(day)\n",
    "            agent.current_policy.append(agent_demand)\n",
    "        if agent.current_payout[-1] > agent.best_payout[-1]:  # payout at the end of the year\n",
    "            agent.best_policy = agent.current_policy\n",
    "            agent.best_payout = agent.current_payout"
   ]
  },
  {
   "cell_type": "code",
   "execution_count": null,
   "metadata": {
    "collapsed": false
   },
   "outputs": [],
   "source": []
  },
  {
   "cell_type": "code",
   "execution_count": null,
   "metadata": {
    "collapsed": false
   },
   "outputs": [],
   "source": []
  },
  {
   "cell_type": "code",
   "execution_count": null,
   "metadata": {
    "collapsed": false
   },
   "outputs": [],
   "source": []
  },
  {
   "cell_type": "code",
   "execution_count": null,
   "metadata": {
    "collapsed": false
   },
   "outputs": [],
   "source": []
  },
  {
   "cell_type": "code",
   "execution_count": null,
   "metadata": {
    "collapsed": true
   },
   "outputs": [],
   "source": []
  },
  {
   "cell_type": "code",
   "execution_count": null,
   "metadata": {
    "collapsed": false
   },
   "outputs": [],
   "source": []
  },
  {
   "cell_type": "code",
   "execution_count": null,
   "metadata": {
    "collapsed": false
   },
   "outputs": [],
   "source": []
  },
  {
   "cell_type": "code",
   "execution_count": null,
   "metadata": {
    "collapsed": false
   },
   "outputs": [],
   "source": []
  },
  {
   "cell_type": "code",
   "execution_count": null,
   "metadata": {
    "collapsed": true
   },
   "outputs": [],
   "source": []
  }
 ],
 "metadata": {
  "kernelspec": {
   "display_name": "Python 3",
   "language": "python",
   "name": "python3"
  },
  "language_info": {
   "codemirror_mode": {
    "name": "ipython",
    "version": 3
   },
   "file_extension": ".py",
   "mimetype": "text/x-python",
   "name": "python",
   "nbconvert_exporter": "python",
   "pygments_lexer": "ipython3",
   "version": "3.5.1"
  }
 },
 "nbformat": 4,
 "nbformat_minor": 0
}
