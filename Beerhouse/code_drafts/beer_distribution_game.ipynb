{
 "cells": [
  {
   "cell_type": "code",
   "execution_count": 1,
   "metadata": {
    "collapsed": true
   },
   "outputs": [],
   "source": [
    "# Important! This notebook runs on Python 3\n",
    "\n",
    "import pandas as pd\n",
    "import numpy as np\n",
    "from numpy import random\n",
    "import time\n",
    "import matplotlib.pylab as plt\n",
    "%matplotlib inline"
   ]
  },
  {
   "cell_type": "code",
   "execution_count": 97,
   "metadata": {
    "collapsed": false
   },
   "outputs": [],
   "source": [
    "# Necessary world information\n",
    "\n",
    "# Prices and Costs\n",
    "# Prices of one beer at each level of the supply chain.\n",
    "retail_price = 243.5\n",
    "wholesale_price = 9\n",
    "regional_warehouse_price = 8\n",
    "factory_price = 7\n",
    "field_price = 6\n",
    "# Cost of holding one beer during one day on warehouse.\n",
    "# Assumed to be the same for all levels\n",
    "warehouse_price = 0.5\n",
    "# Cost of backlog: non fulfilled orders\n",
    "backlog_cost = 0.0\n",
    "\n",
    "# Initial Inventories\n",
    "retail_ininv = 100\n",
    "wholesale_ininv = 100\n",
    "regional_warehouse_ininv = 100\n",
    "factory_ininv = 100\n",
    "\n",
    "# Necessary customer demand and field supply trends\n",
    "# Customer demand will be added a small random effect each time\n",
    "# Field will stay non-random\n",
    "#customer_demand = pd.read_csv(beer_customer_demand.csv)\n",
    "#field_supply = pd.read_csv(beer_field_supply.csv)"
   ]
  },
  {
   "cell_type": "code",
   "execution_count": 98,
   "metadata": {
    "collapsed": false
   },
   "outputs": [],
   "source": [
    "class Customer:\n",
    "    \"\"\"\n",
    "    This type of agent doesn't learn, just interacts with Retail by demanding beer\n",
    "    \"\"\"\n",
    "    def __init__(self,demand_trend):\n",
    "        self.demand = demand_trend['Demand']\n",
    "\n",
    "class Fields:\n",
    "    \"\"\"\n",
    "    This type of agent doesn't learn, just interacts with Factory by supplying beer\n",
    "    \"\"\"\n",
    "    def __init__(self,supply_trend):\n",
    "        self.supply = supply_trend['Supply']  \n",
    "\n",
    "class Agent:\n",
    "    \"\"\"\n",
    "    Creates a Beer Supply Chain Agent ready to start interacting\n",
    "    with other agents and learn.\n",
    "    input:\n",
    "    * name (string) indicating the type of agent, can be one of four:\n",
    "    {Retail,Wholesale,Regional_Warehouse,Factory} \n",
    "    * inventory (numeric) starting inventory at day 1 \n",
    "    output: an object of type Agent\n",
    "    \"\"\"\n",
    "    def __init__(self,name,inventory):\n",
    "        \n",
    "        # I am letting different levels have different selling and buying prices\n",
    "        # This could also include different warehousing/backlogs costs\n",
    "        if name == \"Retail\":\n",
    "            self.selling_price = retail_price\n",
    "            self.buying_price = wholesale_price\n",
    "        elif name == \"Wholesale\":\n",
    "            self.selling_price = wholesale_price\n",
    "            self.buying_price = regional_warehouse_price\n",
    "        elif name == \"Regional_Warehouse\":\n",
    "            self.selling_price = regional_warehouse_price\n",
    "            self.buying_price = factory_price\n",
    "        elif name == \"Factory\":\n",
    "            self.selling_price = factory_price\n",
    "            self.buying_price = field_price\n",
    "        \n",
    "        self.name = name\n",
    "        self.initial_inventory = inventory\n",
    "        self.inventory = inventory\n",
    "        self.total_warehousing_costs = 0\n",
    "        self.total_money = 0\n",
    "        self.backlog = 0\n",
    "        self.current_policy = [0] * 365\n",
    "        self.current_payout = [0] * 365\n",
    "        self.best_policy = [0] * 365\n",
    "        self.best_payout = [-1000] * 365\n",
    "        \n",
    "        # These relationships are assigned after the agents are created\n",
    "        self.downstream_agent =  \"\"\n",
    "        self.upstream_agent =  \"\"\n",
    "    \n",
    "    def pay_for_warehousing(self):\n",
    "        # Pays for warehousing of inventory: must be done either\n",
    "        # \"first thing in the morning\" or \"last time in the night\"\n",
    "        self.total_money = self.total_money - \\\n",
    "                self.inventory * warehouse_price\n",
    "    \n",
    "    def receive_upstream(self,orders):\n",
    "        # Receives orders from upstream agent first thing in the morning\n",
    "        self.inventory = self.inventory + orders\n",
    "        self.total_money = self.total_money - \\\n",
    "                orders * self.buying_price\n",
    "        \n",
    "    def give_downstream(self,orders):\n",
    "        # Checks if he has availability to fulfill order,\n",
    "        # fulfills as much as he can\n",
    "        if self.inventory >= orders:\n",
    "            self.total_money = self.total_money + \\\n",
    "                orders * self.selling_price\n",
    "            self.inventory = self.inventory - orders\n",
    "            return orders\n",
    "        else:\n",
    "            orders_that_could_be_fulfilled = self.inventory\n",
    "            # Sells all its inventory\n",
    "            self.total_money = self.total_money + \\\n",
    "                self.inventory * self.selling_price\n",
    "            # If there were non fulfilled orders, those cause a penalty\n",
    "            self.backlog = (orders - self.inventory) * backlog_cost\n",
    "            self.total_money = self.total_money - self.backlog\n",
    "            self.inventory = 0\n",
    "            return orders_that_could_be_fulfilled"
   ]
  },
  {
   "cell_type": "code",
   "execution_count": 99,
   "metadata": {
    "collapsed": false
   },
   "outputs": [],
   "source": [
    "# Creating the world! Setting supply and demand trends, assigning interactions between agents\n",
    "\n",
    "# Getting customer_demand and field_supply trends\n",
    "customer_demand = pd.read_csv(\"../aux_documents/customer_trend.csv\")\n",
    "fields_supply = pd.read_csv(\"../aux_documents/fields_trend.csv\")\n",
    "\n",
    "# Creating Supply Chain Agents\n",
    "customer_agent = Customer(customer_demand)\n",
    "retail_agent = Agent(\"Retail\", retail_ininv)\n",
    "wholesale_agent = Agent(\"Wholesale\", wholesale_ininv)\n",
    "regional_warehouse_agent = Agent(\"Regional_Warehouse\", regional_warehouse_ininv)\n",
    "factory_agent = Agent(\"Factory\",factory_ininv)\n",
    "fields_agent = Fields(fields_supply)\n",
    "\n",
    "# Assigning interactions\n",
    "retail_agent.downstream_agent = customer_agent\n",
    "retail_agent.upstream_agent = wholesale_agent\n",
    "wholesale_agent.downstream_agent = retail_agent\n",
    "wholesale_agent.upstream_agent = regional_warehouse_agent\n",
    "regional_warehouse_agent.downstream_agent = wholesale_agent\n",
    "regional_warehouse_agent.upstream_agent = factory_agent\n",
    "factory_agent.downstream_agent = regional_warehouse_agent\n",
    "factory_agent.upstream_agent = fields_agent"
   ]
  },
  {
   "cell_type": "markdown",
   "metadata": {},
   "source": [
    "# Policy Iteration\n",
    "\n",
    "This is still work in progress - but mostly done!"
   ]
  },
  {
   "cell_type": "code",
   "execution_count": 102,
   "metadata": {
    "collapsed": false
   },
   "outputs": [
    {
     "name": "stdout",
     "output_type": "stream",
     "text": [
      " \n",
      "Year 0 Agent Retail current payout -11883.0487909 current best payout 22427.2460102\n",
      "Year 0 Agent Wholesale current payout 1685.23876386 current best payout 2011.51084948\n",
      "Year 0 Agent Regional_Warehouse current payout 645.622729522 current best payout 1818.60335444\n",
      "Year 0 Agent Factory current payout -294.195731447 current best payout 1915.55853677\n",
      " \n",
      "Year 1 Agent Retail current payout 11792.3853643 current best payout 22427.2460102\n",
      "Year 1 Agent Wholesale current payout 835.543005415 current best payout 2011.51084948\n",
      "Year 1 Agent Regional_Warehouse current payout 1480.78419609 current best payout 1818.60335444\n",
      "Year 1 Agent Factory current payout 1271.9564565 current best payout 1915.55853677\n",
      " \n",
      "Year 2 Agent Retail current payout 8037.62252328 current best payout 22427.2460102\n",
      "Year 2 Agent Wholesale current payout 1500.94155713 current best payout 2011.51084948\n",
      "Year 2 Agent Regional_Warehouse current payout 717.331645252 current best payout 1818.60335444\n",
      "Year 2 Agent Factory current payout 1274.7549957 current best payout 1915.55853677\n",
      " \n",
      "Year 3 Agent Retail current payout 877.237609429 current best payout 22427.2460102\n",
      "Year 3 Agent Wholesale current payout 1339.57854656 current best payout 2011.51084948\n",
      "Year 3 Agent Regional_Warehouse current payout 750.747986858 current best payout 1818.60335444\n",
      "Year 3 Agent Factory current payout 345.466501861 current best payout 1915.55853677\n",
      " \n",
      "Year 4 Agent Retail current payout -14005.9215033 current best payout 22427.2460102\n",
      "Year 4 Agent Wholesale current payout 1305.76389249 current best payout 2011.51084948\n",
      "Year 4 Agent Regional_Warehouse current payout 667.343831757 current best payout 1818.60335444\n",
      "Year 4 Agent Factory current payout 605.221655903 current best payout 1915.55853677\n",
      " \n",
      "Year 5 Agent Retail current payout -20427.2699386 current best payout 22427.2460102\n",
      "Year 5 Agent Wholesale current payout 1743.28082112 current best payout 2011.51084948\n",
      "Year 5 Agent Regional_Warehouse current payout 851.267230397 current best payout 1818.60335444\n",
      "Year 5 Agent Factory current payout -1025.33575212 current best payout 1915.55853677\n",
      " \n",
      "Year 6 Agent Retail current payout -8568.68366262 current best payout 22427.2460102\n",
      "Year 6 Agent Wholesale current payout 1045.17183991 current best payout 2011.51084948\n",
      "Year 6 Agent Regional_Warehouse current payout 1628.34530808 current best payout 1818.60335444\n",
      "Year 6 Agent Factory current payout 474.361489585 current best payout 1915.55853677\n",
      " \n",
      "Year 7 Agent Retail current payout -12340.878932 current best payout 22427.2460102\n",
      "Year 7 Agent Wholesale current payout 1629.20465014 current best payout 2011.51084948\n",
      "Year 7 Agent Regional_Warehouse current payout 327.434332761 current best payout 1818.60335444\n",
      "Year 7 Agent Factory current payout 1267.84313867 current best payout 1915.55853677\n",
      " \n",
      "Year 8 Agent Retail current payout -2769.35941495 current best payout 22427.2460102\n",
      "Year 8 Agent Wholesale current payout 1526.80132578 current best payout 2011.51084948\n",
      "Year 8 Agent Regional_Warehouse current payout 719.783843142 current best payout 1818.60335444\n",
      "Year 8 Agent Factory current payout 604.04204094 current best payout 1915.55853677\n",
      " \n",
      "Year 9 Agent Retail current payout -9981.36990665 current best payout 22427.2460102\n",
      "Year 9 Agent Wholesale current payout 1252.85822632 current best payout 2011.51084948\n",
      "Year 9 Agent Regional_Warehouse current payout 575.78555045 current best payout 1818.60335444\n",
      "Year 9 Agent Factory current payout 174.308588546 current best payout 1915.55853677\n",
      "Total elapsed time for 10 epochs : 0.30750393867492676\n"
     ]
    }
   ],
   "source": [
    "total_epochs = 10\n",
    "agents = [retail_agent, wholesale_agent, regional_warehouse_agent, factory_agent]\n",
    "\n",
    "# TODO create a function that doesn't learn, only\n",
    "# asks on t for what the downstream agent asked for on t-1\n",
    "def order_by_the_day(agent,day):\n",
    "    return agent.downstream_agent.current_policy[day-1]\n",
    "\n",
    "def create_demand(day):\n",
    "    x = np.random.uniform(0, 1)\n",
    "    if x < p_exploration:  # exploRation\n",
    "        return random.randint(0,70)  # 70 is the maximum harvest of all year, occurs August 15th\n",
    "    else:  # exploTation\n",
    "        return agent.best_policy[day-1]\n",
    "    \n",
    "# POLICY ITERATION  ----------------------------------------------------------------  \n",
    "    \n",
    "start_time = time.time()    \n",
    "    \n",
    "for j in range(total_epochs):  # 1000 epochs, need to find a better way to constraint\n",
    "    print(\" \")\n",
    "    p_exploration = max(0.05,(total_epochs - j) / total_epochs)  # starts in 1 ends in the first number so it always explores a bit\n",
    "    day = 0\n",
    "    # TODO: reinitialize inventories and money, etc at the beginning of the year\n",
    "    # The only things that should stay are best policies and payout\n",
    "    for agent in agents:\n",
    "        agent.inventory = agent.initial_inventory\n",
    "        agent.total_warehousing_costs = 0\n",
    "        agent.total_money = 0\n",
    "        agent.backlog = 0             \n",
    "    \n",
    "    while day < 365:  # one year\n",
    "        day+=1\n",
    "        #if j == total_epochs - 1:\n",
    "        #    print(\"-------YEAR %s -- DAY %s--------------------\" % (j, day))\n",
    "        #    print(\"initial inventories: factory %s regwarehouse %s wholesale %s retail %s\" % (factory_agent.inventory, regional_warehouse_agent.inventory, wholesale_agent.inventory, retail_agent.inventory) )\n",
    "        # PART 1\n",
    "        # Transactions for previous day happen. These are fixed.\n",
    "        # Orders are fulfilled first time in the morning\n",
    "        # Everyone gets their shippings at the same time\n",
    "        # Factory\n",
    "        fulfilled_to_factory = max(0,fields_agent.supply[day-1] - factory_agent.current_policy[day-1])\n",
    "        factory_agent.receive_upstream(fulfilled_to_factory)\n",
    "        # Regional Warehouse\n",
    "        fulfilled_to_regional_warehouse = factory_agent.give_downstream(regional_warehouse_agent.current_policy[day-1])\n",
    "        regional_warehouse_agent.receive_upstream(fulfilled_to_regional_warehouse)\n",
    "        # Wholesale\n",
    "        fulfilled_to_wholesale = regional_warehouse_agent.give_downstream(wholesale_agent.current_policy[day-1])\n",
    "        wholesale_agent.receive_upstream(fulfilled_to_wholesale)\n",
    "        # Retail\n",
    "        fulfilled_to_retail = wholesale_agent.give_downstream(retail_agent.current_policy[day-1])\n",
    "        retail_agent.receive_upstream(fulfilled_to_retail)\n",
    "        # Customer\n",
    "        fulfilled_to_customer = retail_agent.give_downstream(customer_agent.demand[day-1])\n",
    "        \n",
    "        #if j == total_epochs - 1:\n",
    "        #    print(\"fulfilled to factory %s, to regional warehouse %s, to wholesale %s, retail %s, customer %s\" % (fulfilled_to_factory, fulfilled_to_regional_warehouse, fulfilled_to_wholesale, fulfilled_to_retail, fulfilled_to_customer))\n",
    "   \n",
    "        for agent in agents:\n",
    "            # PART 2\n",
    "            # How much money did the agent end up with yesterday's decisions?\n",
    "            agent.current_payout[day-1] = agent.total_money\n",
    "            # Agent decides demand for today, which will (might) be fulfilled tomorrow\n",
    "            agent_demand = create_demand(day)\n",
    "            agent.current_policy[day-1] = agent_demand\n",
    "            # Paying for warehousing at the end of the day\n",
    "            agent.pay_for_warehousing()\n",
    "            \n",
    "    for agent in agents:\n",
    "        print(\"Year %s Agent %s current payout %s current best payout %s\" % (j, agent.name, agent.current_payout[-1], agent.best_payout[-1]))        \n",
    "        if agent.current_payout[-1] > agent.best_payout[-1]:  # payout at the end of the year\n",
    "            print(\"I have found a better policy! Year %s \" % (j))\n",
    "            agent.best_policy = agent.current_policy[:]  # [:] because they're mutable\n",
    "            agent.best_payout = agent.current_payout[:]\n",
    "            print(\"UPDATED! Year %s Agent %s current payout %s updated best payout %s\" % (j, agent.name, agent.current_payout[-1], agent.best_payout[-1]))        \n",
    "\n",
    "elapsed_time = time.time() - start_time\n",
    "print(\"Total elapsed time for %s epochs : %s\" % (total_epochs, elapsed_time))"
   ]
  },
  {
   "cell_type": "code",
   "execution_count": 101,
   "metadata": {
    "collapsed": false
   },
   "outputs": [
    {
     "data": {
      "text/plain": [
       "<matplotlib.collections.PathCollection at 0x10e6fdc18>"
      ]
     },
     "execution_count": 101,
     "metadata": {},
     "output_type": "execute_result"
    },
    {
     "data": {
      "image/png": "[encoded data removed]",
      "text/plain": [
       "<matplotlib.figure.Figure at 0x10e6d4278>"
      ]
     },
     "metadata": {},
     "output_type": "display_data"
    }
   ],
   "source": [
    "plt.scatter(range(365), wholesale_agent.best_policy)"
   ]
  },
  {
   "cell_type": "code",
   "execution_count": null,
   "metadata": {
    "collapsed": false
   },
   "outputs": [],
   "source": [
    "plt.scatter(range(365), fields_agent.supply)"
   ]
  },
  {
   "cell_type": "code",
   "execution_count": null,
   "metadata": {
    "collapsed": false
   },
   "outputs": [],
   "source": [
    "retail_agent.best_policy"
   ]
  },
  {
   "cell_type": "code",
   "execution_count": null,
   "metadata": {
    "collapsed": false
   },
   "outputs": [],
   "source": []
  },
  {
   "cell_type": "code",
   "execution_count": null,
   "metadata": {
    "collapsed": false
   },
   "outputs": [],
   "source": []
  },
  {
   "cell_type": "code",
   "execution_count": null,
   "metadata": {
    "collapsed": false
   },
   "outputs": [],
   "source": []
  },
  {
   "cell_type": "code",
   "execution_count": null,
   "metadata": {
    "collapsed": false
   },
   "outputs": [],
   "source": []
  },
  {
   "cell_type": "code",
   "execution_count": null,
   "metadata": {
    "collapsed": false
   },
   "outputs": [],
   "source": []
  },
  {
   "cell_type": "code",
   "execution_count": null,
   "metadata": {
    "collapsed": false
   },
   "outputs": [],
   "source": []
  },
  {
   "cell_type": "code",
   "execution_count": null,
   "metadata": {
    "collapsed": true
   },
   "outputs": [],
   "source": []
  }
 ],
 "metadata": {
  "anaconda-cloud": {},
  "kernelspec": {
   "display_name": "Python 3",
   "language": "python",
   "name": "python3"
  },
  "language_info": {
   "codemirror_mode": {
    "name": "ipython",
    "version": 3
   },
   "file_extension": ".py",
   "mimetype": "text/x-python",
   "name": "python",
   "nbconvert_exporter": "python",
   "pygments_lexer": "ipython3",
   "version": "3.5.1"
  }
 },
 "nbformat": 4,
 "nbformat_minor": 0
}
