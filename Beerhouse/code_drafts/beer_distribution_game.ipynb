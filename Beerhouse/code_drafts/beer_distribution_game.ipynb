{
 "cells": [
  {
   "cell_type": "code",
   "execution_count": 1,
   "metadata": {
    "collapsed": true
   },
   "outputs": [],
   "source": [
    "# Important! This notebook runs on Python 3\n",
    "\n",
    "import pandas as pd\n",
    "import numpy as np\n",
    "from numpy import random"
   ]
  },
  {
   "cell_type": "code",
   "execution_count": 16,
   "metadata": {
    "collapsed": false
   },
   "outputs": [],
   "source": [
    "# Necessary world information\n",
    "\n",
    "# Prices and Costs\n",
    "# Prices of one beer at each level of the supply chain.\n",
    "retail_price = 10\n",
    "wholesale_price = 9\n",
    "regional_warehouse_price = 8\n",
    "factory_price = 7\n",
    "field_price = 6\n",
    "# Cost of holding one beer during one day on warehouse.\n",
    "# Assumed to be the same for all levels\n",
    "warehouse_price = 0.5\n",
    "# Cost of backlog: non fulfilled orders\n",
    "backlog_cost = 0.5\n",
    "\n",
    "# Initial Inventories\n",
    "retail_ininv = 100\n",
    "wholesale_ininv = 100\n",
    "regional_warehouse_ininv = 100\n",
    "factory_ininv = 100\n",
    "\n",
    "# Necessary customer demand and field supply trends\n",
    "# Customer demand will be added a small random effect each time\n",
    "# Field will stay non-random\n",
    "#customer_demand = pd.read_csv(beer_customer_demand.csv)\n",
    "#field_supply = pd.read_csv(beer_field_supply.csv)"
   ]
  },
  {
   "cell_type": "code",
   "execution_count": 17,
   "metadata": {
    "collapsed": false
   },
   "outputs": [],
   "source": [
    "class Customer:\n",
    "    \"\"\"\n",
    "    This type of agent doesn't learn, just interacts with Retail by demanding beer\n",
    "    \"\"\"\n",
    "    def __init__(self,demand_trend):\n",
    "        self.demand = demand_trend['Demand']\n",
    "\n",
    "class Fields:\n",
    "    \"\"\"\n",
    "    This type of agent doesn't learn, just interacts with Factory by supplying beer\n",
    "    \"\"\"\n",
    "    def __init__(self,supply_trend):\n",
    "        self.supply = supply_trend['Supply']  \n",
    "\n",
    "class Agent:\n",
    "    \"\"\"\n",
    "    Creates a Beer Supply Chain Agent ready to start interacting\n",
    "    with other agents and learn.\n",
    "    input:\n",
    "    * name (string) indicating the type of agent, can be one of four:\n",
    "    {Retail,Wholesale,Regional_Warehouse,Factory} \n",
    "    * inventory (numeric) starting inventory at day 1 \n",
    "    output: an object of type Agent\n",
    "    \"\"\"\n",
    "    def __init__(self,name,inventory):\n",
    "        \n",
    "        # I am letting different levels have different selling and buying prices\n",
    "        # This could also include different warehousing/backlogs costs\n",
    "        if name == \"Retail\":\n",
    "            self.selling_price = retail_price\n",
    "            self.buying_price = wholesale_price\n",
    "        elif name == \"Wholesale\":\n",
    "            self.selling_price = wholesale_price\n",
    "            self.buying_price = regional_warehouse_price\n",
    "        elif name == \"Regional_Warehouse\":\n",
    "            self.selling_price = regional_warehouse_price\n",
    "            self.buying_price = factory_price\n",
    "        elif name == \"Factory\":\n",
    "            self.selling_price = factory_price\n",
    "            self.buying_price = field_price\n",
    "        \n",
    "        self.name = name\n",
    "        self.inventory = inventory\n",
    "        self.total_warehousing_costs = 0\n",
    "        self.total_money = 0\n",
    "        self.backlog = 0\n",
    "        self.current_policy = [0] * 365\n",
    "        self.current_payout = [0] * 365\n",
    "        self.best_policy = [0] * 365\n",
    "        self.best_payout = [0] * 365\n",
    "        \n",
    "        # These relationships are assigned after the agents are created\n",
    "        self.downstream_agent =  \"\"\n",
    "        self.upstream_agent =  \"\"\n",
    "    \n",
    "    def pay_for_warehousing(self):\n",
    "        # Pays for warehousing of inventory: must be done either\n",
    "        # \"first thing in the morning\" or \"last time in the night\"\n",
    "        self.total_money = self.total_money - \\\n",
    "                self.inventory * warehouse_price\n",
    "    \n",
    "    def receive_upstream(self,orders):\n",
    "        # Receives orders from upstream agent first thing in the morning\n",
    "        self.inventory = self.inventory + orders\n",
    "        self.total_money = self.total_money - \\\n",
    "                orders * self.buying_price\n",
    "        \n",
    "    def give_downstream(self,orders):\n",
    "        # Checks if he has availability to fulfill order,\n",
    "        # fulfills as much as he can\n",
    "        if self.inventory >= orders:\n",
    "            self.total_money = self.total_money + \\\n",
    "                orders * self.selling_price\n",
    "            self.inventory = self.inventory - orders\n",
    "            return orders\n",
    "        else:\n",
    "            orders_that_could_be_fulfilled = self.inventory\n",
    "            # Sells all its inventory\n",
    "            self.total_money = self.total_money + \\\n",
    "                self.inventory * self.selling_price\n",
    "            # If there were non fulfilled orders, those cause a penalty\n",
    "            self.backlog = (orders - self.inventory) * backlog_cost\n",
    "            self.inventory = 0\n",
    "            return orders_that_could_be_fulfilled"
   ]
  },
  {
   "cell_type": "code",
   "execution_count": 18,
   "metadata": {
    "collapsed": false
   },
   "outputs": [],
   "source": [
    "# Creating the world! Setting supply and demand trends, assigning interactions between agents\n",
    "\n",
    "# Getting customer_demand and field_supply trends\n",
    "customer_demand = pd.read_csv(\"../aux_documents/customer_trend.csv\")\n",
    "fields_supply = pd.read_csv(\"../aux_documents/fields_trend.csv\")\n",
    "\n",
    "# Creating Supply Chain Agents\n",
    "customer_agent = Customer(customer_demand)\n",
    "retail_agent = Agent(\"Retail\", retail_ininv)\n",
    "wholesale_agent = Agent(\"Wholesale\", wholesale_ininv)\n",
    "regional_warehouse_agent = Agent(\"Regional_Warehouse\", regional_warehouse_ininv)\n",
    "factory_agent = Agent(\"Factory\",factory_ininv)\n",
    "fields_agent = Fields(fields_supply)\n",
    "\n",
    "# Assigning interactions\n",
    "retail_agent.downstream_agent = customer_agent\n",
    "retail_agent.upstream_agent = wholesale_agent\n",
    "wholesale_agent.downstream_agent = retail_agent\n",
    "wholesale_agent.upstream_agent = regional_warehouse_agent\n",
    "regional_warehouse_agent.downstream_agent = wholesale_agent\n",
    "regional_warehouse_agent.upstream_agent = factory_agent\n",
    "factory_agent.downstream_agent = regional_warehouse_agent\n",
    "factory_agent.upstream_agent = fields_agent"
   ]
  },
  {
   "cell_type": "markdown",
   "metadata": {},
   "source": [
    "# Policy Iteration\n",
    "\n",
    "This is still work in progress"
   ]
  },
  {
   "cell_type": "code",
   "execution_count": 21,
   "metadata": {
    "collapsed": false
   },
   "outputs": [],
   "source": [
    "total_epochs = 1000\n",
    "agents = [retail_agent, wholesale_agent, regional_warehouse_agent, factory_agent]\n",
    "\n",
    "# TODO create a function that doesn't learn, only\n",
    "# asks on t for what the downstream agent asked for on t-1\n",
    "def order_by_the_day(agent,day):\n",
    "    return agent.downstream_agent.current_policy[day]\n",
    "\n",
    "def create_demand(day):\n",
    "    x = np.random.uniform(0, 1)\n",
    "    if x < p_exploration:  # exploRation\n",
    "        return random.randint(0,10)  # TODO check if is 10 a good number?\n",
    "    else:  # exploTation\n",
    "        return agent.best_policy[day]\n",
    "\n",
    "# POLICY ITERATION  ----------------------------------------------------------------  \n",
    "    \n",
    "for j in range(total_epochs):  # 10000 epochs, need to find a better way to constraint\n",
    "    p_exploration = (total_epochs - j) / total_epochs  # starts in 1 ends in 0\n",
    "    for day in range(365):  # one year\n",
    "        # TODO: reinitialize inventories and money, etc at the beginning of the year\n",
    "        # The only things that should stay are best policies and payout\n",
    "        # PART 1\n",
    "        # Transactions for previous day happen. These are fixed.\n",
    "        # Orders are fulfilled first time in the morning\n",
    "        # Everyone gets their shippings at the same time\n",
    "        # Factory\n",
    "        fulfilled_to_factory = factory_agent.current_policy[day] - fields_agent.supply[day]\n",
    "        factory_agent.receive_upstream(fulfilled_to_factory)\n",
    "        # Regional Warehouse\n",
    "        fulfilled_to_regional_warehouse = factory_agent.give_downstream(regional_warehouse_agent.current_policy[day])\n",
    "        regional_warehouse_agent.receive_upstream(fulfilled_to_regional_warehouse)\n",
    "        # Wholesale\n",
    "        fulfilled_to_wholesale = regional_warehouse_agent.give_downstream(wholesale_agent.current_policy[day])\n",
    "        wholesale_agent.receive_upstream(fulfilled_to_wholesale)\n",
    "        # Retail\n",
    "        fulfilled_to_retail = wholesale_agent.give_downstream(retail_agent.current_policy[day])\n",
    "        retail_agent.receive_upstream(fulfilled_to_retail)\n",
    "        # Customer\n",
    "        # fulfilled_to_customer = retail_agent.give_downstream(customer_demand)\n",
    "        \n",
    "        \n",
    "        for agent in agents:\n",
    "            # PART 2\n",
    "            # How much money did the agent end up with yesterday's decisions?\n",
    "            agent.current_payout[day] = agent.total_money\n",
    "            # Agent decides demand for today, which will (might) be fulfilled tomorrow\n",
    "            agent_demand = create_demand(day)\n",
    "            agent.current_policy[day] = agent_demand\n",
    "            # Paying for warehousing at the end of the day\n",
    "            agent.pay_for_warehousing()\n",
    "    if agent.current_payout[-1] > agent.best_payout[-1]:  # payout at the end of the year\n",
    "        agent.best_policy = agent.current_policy\n",
    "        agent.best_payout = agent.current_payout"
   ]
  },
  {
   "cell_type": "code",
   "execution_count": null,
   "metadata": {
    "collapsed": false
   },
   "outputs": [],
   "source": []
  },
  {
   "cell_type": "markdown",
   "metadata": {},
   "source": [
    "Not working yet: at the beginning of every year, some agent's stuff need to be reset: money, starting inventory, backlog cost\n",
    "But NOT the whole agent because we want them to remember their best policies :)"
   ]
  },
  {
   "cell_type": "code",
   "execution_count": null,
   "metadata": {
    "collapsed": false
   },
   "outputs": [],
   "source": []
  },
  {
   "cell_type": "code",
   "execution_count": null,
   "metadata": {
    "collapsed": false
   },
   "outputs": [],
   "source": []
  },
  {
   "cell_type": "code",
   "execution_count": null,
   "metadata": {
    "collapsed": false
   },
   "outputs": [],
   "source": []
  },
  {
   "cell_type": "code",
   "execution_count": null,
   "metadata": {
    "collapsed": false
   },
   "outputs": [],
   "source": []
  },
  {
   "cell_type": "code",
   "execution_count": null,
   "metadata": {
    "collapsed": false
   },
   "outputs": [],
   "source": []
  },
  {
   "cell_type": "code",
   "execution_count": null,
   "metadata": {
    "collapsed": false
   },
   "outputs": [],
   "source": []
  },
  {
   "cell_type": "code",
   "execution_count": null,
   "metadata": {
    "collapsed": false
   },
   "outputs": [],
   "source": []
  },
  {
   "cell_type": "code",
   "execution_count": null,
   "metadata": {
    "collapsed": true
   },
   "outputs": [],
   "source": []
  }
 ],
 "metadata": {
  "kernelspec": {
   "display_name": "Python 3",
   "language": "python",
   "name": "python3"
  },
  "language_info": {
   "codemirror_mode": {
    "name": "ipython",
    "version": 3
   },
   "file_extension": ".py",
   "mimetype": "text/x-python",
   "name": "python",
   "nbconvert_exporter": "python",
   "pygments_lexer": "ipython3",
   "version": "3.5.1"
  }
 },
 "nbformat": 4,
 "nbformat_minor": 0
}
