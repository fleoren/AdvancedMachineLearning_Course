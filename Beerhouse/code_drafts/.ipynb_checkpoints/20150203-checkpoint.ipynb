{
 "cells": [
  {
   "cell_type": "code",
   "execution_count": 1,
   "metadata": {
    "collapsed": true
   },
   "outputs": [],
   "source": [
    "import uuid\n",
    "import random"
   ]
  },
  {
   "cell_type": "markdown",
   "metadata": {},
   "source": [
    "## Clases Raíz"
   ]
  },
  {
   "cell_type": "code",
   "execution_count": 2,
   "metadata": {
    "collapsed": true
   },
   "outputs": [],
   "source": [
    "class Mundo(object):\n",
    "    def __init__(self, ancho, alto):\n",
    "        self.cosas = []\n",
    "        self.agentes = []\n",
    "        self.ancho = ancho\n",
    "        self.alto = alto\n",
    "        \n",
    "    def _asignar_posicion(self):\n",
    "        return (0,0)\n",
    "    \n",
    "    def _cerca(una_cosa, otra_cosa):\n",
    "        return False\n",
    "    \n",
    "    def agregar_cosa(self, posicion, cosa):\n",
    "        cosa.posicion = posicion or self._asignar_posicion\n",
    "        self.cosas.append(cosa)\n",
    "        if isinstance(cosa, Agente):\n",
    "            cosa.performance = 0.0\n",
    "            self.agentes.append(cosa)\n",
    "    \n",
    "    def ejecutar_accion(self, agente, accion):\n",
    "        pass\n",
    "    \n",
    "    def actualizar_percepcion(self, agente):\n",
    "        pass\n",
    "    \n",
    "    def step(self):\n",
    "        acciones = [agente.programa(self.actualizar_percepcion(agente))for agente in self.agentes]\n",
    "        for (agente, accion) in zip(self.agentes, acciones):\n",
    "            self.ejecutar_accion(agente, accion)\n",
    "            \n",
    "    def run(self, steps=100):\n",
    "        for step in range(steps):\n",
    "            self.step()"
   ]
  },
  {
   "cell_type": "code",
   "execution_count": 3,
   "metadata": {
    "collapsed": false
   },
   "outputs": [],
   "source": [
    "m = Mundo(ancho = 3, alto = 3)"
   ]
  },
  {
   "cell_type": "code",
   "execution_count": 4,
   "metadata": {
    "collapsed": true
   },
   "outputs": [],
   "source": [
    "class Cosa(object):\n",
    "    def __init__(self, posicion = None):\n",
    "        self.id = str(uuid.uuid4())\n",
    "        self.posicion = posicion\n",
    "        \n",
    "    def __format__(self, format_spec):\n",
    "        return '{:<10} [{:>30}] en {}'.format(self.__class__.__name__, self.id, self.posicion)"
   ]
  },
  {
   "cell_type": "code",
   "execution_count": 5,
   "metadata": {
    "collapsed": false
   },
   "outputs": [],
   "source": [
    "c = Cosa()"
   ]
  },
  {
   "cell_type": "code",
   "execution_count": 6,
   "metadata": {
    "collapsed": true
   },
   "outputs": [],
   "source": [
    "class Agente(Cosa):\n",
    "    def __init__(self, programa = None, posicion=None, performance=0):     \n",
    "        super(Agente,self).__init__(posicion)\n",
    "        \n",
    "        self.performance = performance\n",
    "        \n",
    "        if not programa:\n",
    "            def programa(percepcion):\n",
    "                return \"Percibo {}\".format(percepcion)\n",
    "        self.programa = programa\n",
    "        \n",
    "    def __format__(self, format_spec):\n",
    "        return '{:<15} [{:>30}] (performance = {}) en {}'.format(self.__class__.__name__, self.id,  self.performance, self.posicion,)"
   ]
  },
  {
   "cell_type": "markdown",
   "metadata": {},
   "source": [
    "## Ejemplo"
   ]
  },
  {
   "cell_type": "code",
   "execution_count": 7,
   "metadata": {
    "collapsed": true
   },
   "outputs": [],
   "source": [
    "class MundoAburrido(Mundo):\n",
    "    def __init__(self, ancho, alto, cosas, agentes):\n",
    "        super(MundoAburrido, self).__init__(ancho, alto)\n",
    "        self.cosas = cosas\n",
    "        self.agentes = agentes\n",
    "        \n",
    "        for cosa in self.cosas:\n",
    "            cosa.posicion = self._asignar_posicion()\n",
    "            \n",
    "        for agente in self.agentes:\n",
    "            agente.posicion = self._asignar_posicion()\n",
    "        \n",
    "    def _asignar_posicion(self):\n",
    "        x = random.choice(range(self.ancho))\n",
    "        y = random.choice(range(self.alto))\n",
    "        return [x,y] \n",
    "    \n",
    "    def ejecutar_accion(self, agente, accion):\n",
    "        print(\"{} ejecuta {:10} y nada pasa\".format(agente, accion))\n",
    "    \n",
    "    def actualizar_percepcion(self, agente):\n",
    "        \"\"\"Devuelve las cosas que estén en la posición del agente\"\"\"\n",
    "        return ['BUMP' for cosa in self.cosas if cosa.posicion == agente.posicion]"
   ]
  },
  {
   "cell_type": "code",
   "execution_count": 8,
   "metadata": {
    "collapsed": true
   },
   "outputs": [],
   "source": [
    "class AgenteAleatorio(Agente):\n",
    "    def __init__(self, acciones):\n",
    "        super(AgenteAleatorio, self).__init__()\n",
    "        self.acciones = acciones\n",
    "        self.programa = lambda percepcion: random.choice(self.acciones)"
   ]
  },
  {
   "cell_type": "code",
   "execution_count": 9,
   "metadata": {
    "collapsed": true
   },
   "outputs": [],
   "source": [
    "class AgenteDummy(Agente):\n",
    "    def __init__(self):\n",
    "        super(AgenteDummy, self).__init__()\n",
    "        self.programa = lambda percepcion: '...'"
   ]
  },
  {
   "cell_type": "code",
   "execution_count": 10,
   "metadata": {
    "collapsed": false
   },
   "outputs": [
    {
     "name": "stdout",
     "output_type": "stream",
     "text": [
      "AgenteDummy     [377982c4-ab5a-4020-a6e9-853719f47a65] (performance = 0) en None\n"
     ]
    }
   ],
   "source": [
    "a = AgenteDummy()\n",
    "a.performance\n",
    "print(\"{}\".format(a))"
   ]
  },
  {
   "cell_type": "code",
   "execution_count": 11,
   "metadata": {
    "collapsed": true
   },
   "outputs": [],
   "source": [
    "class AgenteReactivoSimple(Agente):\n",
    "    def __init__(self, acciones, reglas):\n",
    "        super(AgenteReactivoSimple,self).__init__()\n",
    "        self.acciones = acciones\n",
    "        self.reglas = reglas\n",
    "        def programa(percepcion):\n",
    "            accion = random.choice(self.acciones)\n",
    "            if percepcion:\n",
    "                if percepcion[0] in reglas.keys():\n",
    "                    accion = reglas[percepcion[0]]\n",
    "            return accion\n",
    "        self.programa = programa"
   ]
  },
  {
   "cell_type": "code",
   "execution_count": 12,
   "metadata": {
    "collapsed": true
   },
   "outputs": [],
   "source": [
    "class Piedra(Cosa):\n",
    "    def __init__(self):\n",
    "        super(Piedra,self).__init__()"
   ]
  },
  {
   "cell_type": "code",
   "execution_count": 13,
   "metadata": {
    "collapsed": true
   },
   "outputs": [],
   "source": [
    "aleatorio = AgenteAleatorio(acciones=('UP', 'DOWN', 'LEFT', 'RIGHT'))\n",
    "dummy = AgenteDummy()\n",
    "reactivo = AgenteReactivoSimple(acciones=('UP', 'DOWN', 'LEFT', 'RIGHT', 'GRAB'), \n",
    "                                reglas={'BUMP':'GRAB'}) # Si me topo con algo, lo miro\n",
    "piedra = Piedra()"
   ]
  },
  {
   "cell_type": "code",
   "execution_count": 14,
   "metadata": {
    "collapsed": false
   },
   "outputs": [],
   "source": [
    "cosas = [piedra]\n",
    "agentes = [dummy, aleatorio,reactivo]\n",
    "mundo = MundoAburrido(ancho=10, alto=10, cosas=cosas, agentes=agentes)"
   ]
  },
  {
   "cell_type": "code",
   "execution_count": 15,
   "metadata": {
    "collapsed": false
   },
   "outputs": [
    {
     "name": "stdout",
     "output_type": "stream",
     "text": [
      "AgenteDummy     [ca5e88e5-1c50-42ee-836e-bef36e593563] (performance = 0) en [5, 8] ejecuta ...        y nada pasa\n",
      "AgenteAleatorio [1b1ca95f-90f6-4593-9faa-d56add89b581] (performance = 0) en [4, 0] ejecuta RIGHT      y nada pasa\n",
      "AgenteReactivoSimple [2ed7e00d-9c26-4515-b2eb-5a139666ec98] (performance = 0) en [7, 6] ejecuta UP         y nada pasa\n"
     ]
    }
   ],
   "source": [
    "mundo.step()"
   ]
  },
  {
   "cell_type": "code",
   "execution_count": 16,
   "metadata": {
    "collapsed": false
   },
   "outputs": [
    {
     "name": "stdout",
     "output_type": "stream",
     "text": [
      "AgenteDummy     [ca5e88e5-1c50-42ee-836e-bef36e593563] (performance = 0) en [5, 8] ejecuta ...        y nada pasa\n",
      "AgenteAleatorio [1b1ca95f-90f6-4593-9faa-d56add89b581] (performance = 0) en [4, 0] ejecuta DOWN       y nada pasa\n",
      "AgenteReactivoSimple [2ed7e00d-9c26-4515-b2eb-5a139666ec98] (performance = 0) en [7, 6] ejecuta UP         y nada pasa\n",
      "AgenteDummy     [ca5e88e5-1c50-42ee-836e-bef36e593563] (performance = 0) en [5, 8] ejecuta ...        y nada pasa\n",
      "AgenteAleatorio [1b1ca95f-90f6-4593-9faa-d56add89b581] (performance = 0) en [4, 0] ejecuta RIGHT      y nada pasa\n",
      "AgenteReactivoSimple [2ed7e00d-9c26-4515-b2eb-5a139666ec98] (performance = 0) en [7, 6] ejecuta LEFT       y nada pasa\n",
      "AgenteDummy     [ca5e88e5-1c50-42ee-836e-bef36e593563] (performance = 0) en [5, 8] ejecuta ...        y nada pasa\n",
      "AgenteAleatorio [1b1ca95f-90f6-4593-9faa-d56add89b581] (performance = 0) en [4, 0] ejecuta DOWN       y nada pasa\n",
      "AgenteReactivoSimple [2ed7e00d-9c26-4515-b2eb-5a139666ec98] (performance = 0) en [7, 6] ejecuta RIGHT      y nada pasa\n",
      "AgenteDummy     [ca5e88e5-1c50-42ee-836e-bef36e593563] (performance = 0) en [5, 8] ejecuta ...        y nada pasa\n",
      "AgenteAleatorio [1b1ca95f-90f6-4593-9faa-d56add89b581] (performance = 0) en [4, 0] ejecuta UP         y nada pasa\n",
      "AgenteReactivoSimple [2ed7e00d-9c26-4515-b2eb-5a139666ec98] (performance = 0) en [7, 6] ejecuta RIGHT      y nada pasa\n",
      "AgenteDummy     [ca5e88e5-1c50-42ee-836e-bef36e593563] (performance = 0) en [5, 8] ejecuta ...        y nada pasa\n",
      "AgenteAleatorio [1b1ca95f-90f6-4593-9faa-d56add89b581] (performance = 0) en [4, 0] ejecuta UP         y nada pasa\n",
      "AgenteReactivoSimple [2ed7e00d-9c26-4515-b2eb-5a139666ec98] (performance = 0) en [7, 6] ejecuta GRAB       y nada pasa\n"
     ]
    }
   ],
   "source": [
    "mundo.run(steps=5)"
   ]
  },
  {
   "cell_type": "markdown",
   "metadata": {},
   "source": [
    "## Mejoremos esto"
   ]
  },
  {
   "cell_type": "code",
   "execution_count": 17,
   "metadata": {
    "collapsed": true
   },
   "outputs": [],
   "source": [
    "class MundoAburrido(Mundo):\n",
    "    def __init__(self, ancho, alto, cosas, agentes):\n",
    "        Mundo.__init__(self, ancho, alto)\n",
    "        self.cosas = cosas\n",
    "        self.agentes = agentes\n",
    "        \n",
    "        for cosa in self.cosas:\n",
    "            cosa.posicion = self._asignar_posicion()\n",
    "            \n",
    "        for agente in self.agentes:\n",
    "            agente.posicion = self._asignar_posicion()\n",
    "            \n",
    "        self.steps = 0\n",
    "        self.reporta_estado()\n",
    "        \n",
    "    def _asignar_posicion(self):\n",
    "        x = random.choice(range(self.ancho))\n",
    "        y = random.choice(range(self.alto))\n",
    "        return [x,y] \n",
    "    \n",
    "    def cosas_en(self, posicion, radio=0):\n",
    "        return [cosa for cosa in self.cosas if cosa.posicion == posicion]\n",
    "    \n",
    "    def ejecutar_accion(self, agente, accion):\n",
    "        x = agente.posicion[0]\n",
    "        y = agente.posicion[1]\n",
    "        print(\"{} ejecuta {:10}\".format(agente, accion))\n",
    "        if accion == 'UP':\n",
    "            agente.posicion[1] = (y - 1) % self.alto\n",
    "        elif accion == 'DOWN':\n",
    "            agente.posicion[1] = (y + 1) % self.alto\n",
    "        elif accion == 'RIGHT':\n",
    "            agente.posicion[0] = (x + 1) % self.ancho\n",
    "        elif accion == 'LEFT':\n",
    "            agente.posicion[0] = (x - 1) % self.ancho\n",
    "        elif accion == 'GRAB':\n",
    "            cosas = self.cosas_en(agente.posicion)\n",
    "            for cosa in cosas:\n",
    "                nueva_posicion = self._asignar_posicion()\n",
    "                print(\"{} toma {} y lo lanza a {}\".format(agente, cosa, nueva_posicion))\n",
    "                cosa.posicion = nueva_posicion\n",
    "    \n",
    "    def actualizar_percepcion(self, agente):\n",
    "        \"\"\"Devuelve las cosas que estén en la posición del agente\"\"\"\n",
    "        return ['BUMP' for cosa in self.cosas if cosa.posicion == agente.posicion]\n",
    "    \n",
    "    def reporta_estado(self):\n",
    "        print(\"\\nEstado en t = \" + str(self.steps))\n",
    "        for cosa in self.cosas:\n",
    "            print(\"{}\".format(cosa))\n",
    "        for agente in self.agentes:\n",
    "            print(\"{}\".format(agente))\n",
    "        print(\"\\n\")\n",
    "    \n",
    "    def step(self):\n",
    "        super(MundoAburrido,self).step()\n",
    "        self.steps = self.steps + 1\n",
    "        self.reporta_estado()"
   ]
  },
  {
   "cell_type": "code",
   "execution_count": 18,
   "metadata": {
    "collapsed": false
   },
   "outputs": [
    {
     "name": "stdout",
     "output_type": "stream",
     "text": [
      "\n",
      "Estado en t = 0\n",
      "Piedra     [41f7e442-a23e-4145-a3ec-e6e9f9891b6d] en [0, 1]\n",
      "AgenteReactivoSimple [2ed7e00d-9c26-4515-b2eb-5a139666ec98] (performance = 0) en [1, 1]\n",
      "AgenteAleatorio [1b1ca95f-90f6-4593-9faa-d56add89b581] (performance = 0) en [0, 0]\n",
      "\n",
      "\n"
     ]
    }
   ],
   "source": [
    "cosas = [piedra]\n",
    "agentes = [reactivo, aleatorio]\n",
    "mundo = MundoAburrido(ancho=2, alto=2, cosas=cosas, agentes=agentes)"
   ]
  },
  {
   "cell_type": "code",
   "execution_count": 19,
   "metadata": {
    "collapsed": false
   },
   "outputs": [
    {
     "name": "stdout",
     "output_type": "stream",
     "text": [
      "AgenteReactivoSimple [2ed7e00d-9c26-4515-b2eb-5a139666ec98] (performance = 0) en [1, 1] ejecuta GRAB      \n",
      "AgenteAleatorio [1b1ca95f-90f6-4593-9faa-d56add89b581] (performance = 0) en [0, 0] ejecuta DOWN      \n",
      "\n",
      "Estado en t = 1\n",
      "Piedra     [41f7e442-a23e-4145-a3ec-e6e9f9891b6d] en [0, 1]\n",
      "AgenteReactivoSimple [2ed7e00d-9c26-4515-b2eb-5a139666ec98] (performance = 0) en [1, 1]\n",
      "AgenteAleatorio [1b1ca95f-90f6-4593-9faa-d56add89b581] (performance = 0) en [0, 1]\n",
      "\n",
      "\n"
     ]
    }
   ],
   "source": [
    "mundo.step()"
   ]
  },
  {
   "cell_type": "code",
   "execution_count": 20,
   "metadata": {
    "collapsed": false
   },
   "outputs": [
    {
     "name": "stdout",
     "output_type": "stream",
     "text": [
      "AgenteReactivoSimple [2ed7e00d-9c26-4515-b2eb-5a139666ec98] (performance = 0) en [1, 1] ejecuta LEFT      \n",
      "AgenteAleatorio [1b1ca95f-90f6-4593-9faa-d56add89b581] (performance = 0) en [0, 1] ejecuta DOWN      \n",
      "\n",
      "Estado en t = 2\n",
      "Piedra     [41f7e442-a23e-4145-a3ec-e6e9f9891b6d] en [0, 1]\n",
      "AgenteReactivoSimple [2ed7e00d-9c26-4515-b2eb-5a139666ec98] (performance = 0) en [0, 1]\n",
      "AgenteAleatorio [1b1ca95f-90f6-4593-9faa-d56add89b581] (performance = 0) en [0, 0]\n",
      "\n",
      "\n",
      "AgenteReactivoSimple [2ed7e00d-9c26-4515-b2eb-5a139666ec98] (performance = 0) en [0, 1] ejecuta GRAB      \n",
      "AgenteReactivoSimple [2ed7e00d-9c26-4515-b2eb-5a139666ec98] (performance = 0) en [0, 1] toma Piedra     [41f7e442-a23e-4145-a3ec-e6e9f9891b6d] en [0, 1] y lo lanza a [1, 0]\n",
      "AgenteAleatorio [1b1ca95f-90f6-4593-9faa-d56add89b581] (performance = 0) en [0, 0] ejecuta UP        \n",
      "\n",
      "Estado en t = 3\n",
      "Piedra     [41f7e442-a23e-4145-a3ec-e6e9f9891b6d] en [1, 0]\n",
      "AgenteReactivoSimple [2ed7e00d-9c26-4515-b2eb-5a139666ec98] (performance = 0) en [0, 1]\n",
      "AgenteAleatorio [1b1ca95f-90f6-4593-9faa-d56add89b581] (performance = 0) en [0, 1]\n",
      "\n",
      "\n",
      "AgenteReactivoSimple [2ed7e00d-9c26-4515-b2eb-5a139666ec98] (performance = 0) en [0, 1] ejecuta GRAB      \n",
      "AgenteAleatorio [1b1ca95f-90f6-4593-9faa-d56add89b581] (performance = 0) en [0, 1] ejecuta LEFT      \n",
      "\n",
      "Estado en t = 4\n",
      "Piedra     [41f7e442-a23e-4145-a3ec-e6e9f9891b6d] en [1, 0]\n",
      "AgenteReactivoSimple [2ed7e00d-9c26-4515-b2eb-5a139666ec98] (performance = 0) en [0, 1]\n",
      "AgenteAleatorio [1b1ca95f-90f6-4593-9faa-d56add89b581] (performance = 0) en [1, 1]\n",
      "\n",
      "\n",
      "AgenteReactivoSimple [2ed7e00d-9c26-4515-b2eb-5a139666ec98] (performance = 0) en [0, 1] ejecuta UP        \n",
      "AgenteAleatorio [1b1ca95f-90f6-4593-9faa-d56add89b581] (performance = 0) en [1, 1] ejecuta RIGHT     \n",
      "\n",
      "Estado en t = 5\n",
      "Piedra     [41f7e442-a23e-4145-a3ec-e6e9f9891b6d] en [1, 0]\n",
      "AgenteReactivoSimple [2ed7e00d-9c26-4515-b2eb-5a139666ec98] (performance = 0) en [0, 0]\n",
      "AgenteAleatorio [1b1ca95f-90f6-4593-9faa-d56add89b581] (performance = 0) en [0, 1]\n",
      "\n",
      "\n",
      "AgenteReactivoSimple [2ed7e00d-9c26-4515-b2eb-5a139666ec98] (performance = 0) en [0, 0] ejecuta RIGHT     \n",
      "AgenteAleatorio [1b1ca95f-90f6-4593-9faa-d56add89b581] (performance = 0) en [0, 1] ejecuta LEFT      \n",
      "\n",
      "Estado en t = 6\n",
      "Piedra     [41f7e442-a23e-4145-a3ec-e6e9f9891b6d] en [1, 0]\n",
      "AgenteReactivoSimple [2ed7e00d-9c26-4515-b2eb-5a139666ec98] (performance = 0) en [1, 0]\n",
      "AgenteAleatorio [1b1ca95f-90f6-4593-9faa-d56add89b581] (performance = 0) en [1, 1]\n",
      "\n",
      "\n",
      "AgenteReactivoSimple [2ed7e00d-9c26-4515-b2eb-5a139666ec98] (performance = 0) en [1, 0] ejecuta GRAB      \n",
      "AgenteReactivoSimple [2ed7e00d-9c26-4515-b2eb-5a139666ec98] (performance = 0) en [1, 0] toma Piedra     [41f7e442-a23e-4145-a3ec-e6e9f9891b6d] en [1, 0] y lo lanza a [0, 1]\n",
      "AgenteAleatorio [1b1ca95f-90f6-4593-9faa-d56add89b581] (performance = 0) en [1, 1] ejecuta UP        \n",
      "\n",
      "Estado en t = 7\n",
      "Piedra     [41f7e442-a23e-4145-a3ec-e6e9f9891b6d] en [0, 1]\n",
      "AgenteReactivoSimple [2ed7e00d-9c26-4515-b2eb-5a139666ec98] (performance = 0) en [1, 0]\n",
      "AgenteAleatorio [1b1ca95f-90f6-4593-9faa-d56add89b581] (performance = 0) en [1, 0]\n",
      "\n",
      "\n",
      "AgenteReactivoSimple [2ed7e00d-9c26-4515-b2eb-5a139666ec98] (performance = 0) en [1, 0] ejecuta DOWN      \n",
      "AgenteAleatorio [1b1ca95f-90f6-4593-9faa-d56add89b581] (performance = 0) en [1, 0] ejecuta DOWN      \n",
      "\n",
      "Estado en t = 8\n",
      "Piedra     [41f7e442-a23e-4145-a3ec-e6e9f9891b6d] en [0, 1]\n",
      "AgenteReactivoSimple [2ed7e00d-9c26-4515-b2eb-5a139666ec98] (performance = 0) en [1, 1]\n",
      "AgenteAleatorio [1b1ca95f-90f6-4593-9faa-d56add89b581] (performance = 0) en [1, 1]\n",
      "\n",
      "\n",
      "AgenteReactivoSimple [2ed7e00d-9c26-4515-b2eb-5a139666ec98] (performance = 0) en [1, 1] ejecuta LEFT      \n",
      "AgenteAleatorio [1b1ca95f-90f6-4593-9faa-d56add89b581] (performance = 0) en [1, 1] ejecuta UP        \n",
      "\n",
      "Estado en t = 9\n",
      "Piedra     [41f7e442-a23e-4145-a3ec-e6e9f9891b6d] en [0, 1]\n",
      "AgenteReactivoSimple [2ed7e00d-9c26-4515-b2eb-5a139666ec98] (performance = 0) en [0, 1]\n",
      "AgenteAleatorio [1b1ca95f-90f6-4593-9faa-d56add89b581] (performance = 0) en [1, 0]\n",
      "\n",
      "\n",
      "AgenteReactivoSimple [2ed7e00d-9c26-4515-b2eb-5a139666ec98] (performance = 0) en [0, 1] ejecuta GRAB      \n",
      "AgenteReactivoSimple [2ed7e00d-9c26-4515-b2eb-5a139666ec98] (performance = 0) en [0, 1] toma Piedra     [41f7e442-a23e-4145-a3ec-e6e9f9891b6d] en [0, 1] y lo lanza a [0, 1]\n",
      "AgenteAleatorio [1b1ca95f-90f6-4593-9faa-d56add89b581] (performance = 0) en [1, 0] ejecuta DOWN      \n",
      "\n",
      "Estado en t = 10\n",
      "Piedra     [41f7e442-a23e-4145-a3ec-e6e9f9891b6d] en [0, 1]\n",
      "AgenteReactivoSimple [2ed7e00d-9c26-4515-b2eb-5a139666ec98] (performance = 0) en [0, 1]\n",
      "AgenteAleatorio [1b1ca95f-90f6-4593-9faa-d56add89b581] (performance = 0) en [1, 1]\n",
      "\n",
      "\n",
      "AgenteReactivoSimple [2ed7e00d-9c26-4515-b2eb-5a139666ec98] (performance = 0) en [0, 1] ejecuta GRAB      \n",
      "AgenteReactivoSimple [2ed7e00d-9c26-4515-b2eb-5a139666ec98] (performance = 0) en [0, 1] toma Piedra     [41f7e442-a23e-4145-a3ec-e6e9f9891b6d] en [0, 1] y lo lanza a [0, 1]\n",
      "AgenteAleatorio [1b1ca95f-90f6-4593-9faa-d56add89b581] (performance = 0) en [1, 1] ejecuta DOWN      \n",
      "\n",
      "Estado en t = 11\n",
      "Piedra     [41f7e442-a23e-4145-a3ec-e6e9f9891b6d] en [0, 1]\n",
      "AgenteReactivoSimple [2ed7e00d-9c26-4515-b2eb-5a139666ec98] (performance = 0) en [0, 1]\n",
      "AgenteAleatorio [1b1ca95f-90f6-4593-9faa-d56add89b581] (performance = 0) en [1, 0]\n",
      "\n",
      "\n"
     ]
    }
   ],
   "source": [
    "mundo.run(steps=10)"
   ]
  },
  {
   "cell_type": "code",
   "execution_count": null,
   "metadata": {
    "collapsed": true
   },
   "outputs": [],
   "source": []
  }
 ],
 "metadata": {
  "kernelspec": {
   "display_name": "Python 2",
   "language": "python",
   "name": "python2"
  },
  "language_info": {
   "codemirror_mode": {
    "name": "ipython",
    "version": 2
   },
   "file_extension": ".py",
   "mimetype": "text/x-python",
   "name": "python",
   "nbconvert_exporter": "python",
   "pygments_lexer": "ipython2",
   "version": "2.7.12"
  }
 },
 "nbformat": 4,
 "nbformat_minor": 0
}
