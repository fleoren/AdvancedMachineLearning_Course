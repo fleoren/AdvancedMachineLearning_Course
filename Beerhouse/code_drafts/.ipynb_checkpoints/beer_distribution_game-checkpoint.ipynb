{
 "cells": [
  {
   "cell_type": "code",
   "execution_count": 1,
   "metadata": {
    "collapsed": true
   },
   "outputs": [],
   "source": [
    "# Important! This notebook runs on Python 3\n",
    "\n",
    "import pandas as pd"
   ]
  },
  {
   "cell_type": "code",
   "execution_count": 36,
   "metadata": {
    "collapsed": false
   },
   "outputs": [],
   "source": [
    "# Necessary world information\n",
    "\n",
    "# Prices and Costs\n",
    "# Prices of one beer at each level of the supply chain.\n",
    "retail_price = 10\n",
    "wholesale_price = 9\n",
    "regional_warehouse_price = 8\n",
    "factory_price = 7\n",
    "field_price = 6\n",
    "# Cost of holding one beer during one day on warehouse.\n",
    "# Assumed to be the same for all levels\n",
    "warehouse_price = 0.5\n",
    "# Cost of backlog: non fulfilled orders\n",
    "backlog_cost = 0.5\n",
    "\n",
    "# Initial Inventories\n",
    "retail_ininv = 100\n",
    "wholesale_ininv = 100\n",
    "regional_warehouse_ininv = 100\n",
    "factory_ininv = 100\n",
    "\n",
    "# Necessary customer demand and field supply trends\n",
    "# Customer demand will be added a small random effect each time\n",
    "# Field will stay non-random\n",
    "#customer_demand = pd.read_csv(beer_customer_demand.csv)\n",
    "#field_supply = pd.read_csv(beer_field_supply.csv)"
   ]
  },
  {
   "cell_type": "code",
   "execution_count": 39,
   "metadata": {
    "collapsed": false
   },
   "outputs": [],
   "source": [
    "class Agent:\n",
    "    \"\"\"\n",
    "    Creates a Beer Supply Chain Agent ready to start interacting\n",
    "    with other agents.\n",
    "    input:\n",
    "    * name (string) indicating the type of agent, can be one of four:\n",
    "    {Retail,Wholesale,Regional_Warehouse,Factory} \n",
    "    * inventory (numeric) starting inventory at day 1\n",
    "    output: an object of type Agent\n",
    "    \"\"\"\n",
    "    def __init__(self,name,inventory):\n",
    "        \n",
    "        # I am letting different levels have different selling and buying prices\n",
    "        # This could also include different warehousing/backlogs\n",
    "        if name == \"Retail\":\n",
    "            self.selling_price = retail_price\n",
    "            self.buying_price = wholesale_price\n",
    "        elif name == \"Wholesale\":\n",
    "            self.selling_price = wholesale_price\n",
    "            self.buying_price = regional_warehouse_price\n",
    "        elif name == \"Regional_Warehouse\":\n",
    "            self.selling_price = regional_warehouse_price\n",
    "            self.buying_price = factory_price\n",
    "        elif name == \"Factory\":\n",
    "            self.selling_price = factory_price\n",
    "            self.buying_price = field_price\n",
    "        \n",
    "        self.name = name\n",
    "        self.inventory = inventory\n",
    "        self.total_warehousing_costs = 0\n",
    "        self.total_money = 0\n",
    "        self.backlog = 0\n",
    "    \n",
    "    def pay_for_warehousing(self):\n",
    "        # Pays for warehousing of inventory: must be done either\n",
    "        # \"first thing in the morning\" or \"last time in the night\"\n",
    "        self.total_money = self.total_money - \\\n",
    "                self.inventory * warehouse_price\n",
    "    \n",
    "    def receive_upstream(self,orders):\n",
    "        # Receives orders from upstream agent first thing in the morning\n",
    "        self.inventory = self.inventory + orders\n",
    "        self.total_money = self.total_money - \\\n",
    "                orders * self.buying_price\n",
    "        \n",
    "    def give_downstream(self,orders):\n",
    "        # Checks if he has availability to fulfill order,\n",
    "        # fulfills as much as he can\n",
    "        if self.inventory >= orders:\n",
    "            self.total_money = self.total_money + \\\n",
    "                orders * self.selling_price\n",
    "            self.inventory = self.inventory - orders\n",
    "            return orders\n",
    "        else:\n",
    "            orders_that_could_be_fulfilled = self.inventory\n",
    "            # Sells all its inventory\n",
    "            self.total_money = self.total_money + \\\n",
    "                self.inventory * self.selling_price\n",
    "            # If there were non fulfilled orders, those cause a penalty\n",
    "            self.backlog = (orders - self.inventory) * backlog_cost\n",
    "            self.inventory = 0\n",
    "            return orders_that_could_be_fulfilled"
   ]
  },
  {
   "cell_type": "code",
   "execution_count": 62,
   "metadata": {
    "collapsed": false
   },
   "outputs": [],
   "source": [
    "retail_agent = Agent(\"Retail\", retail_ininv)\n",
    "wholesale_agent = Agent(\"Wholesale\", wholesale_ininv)\n",
    "regional_warehouse_agent = Agent(\"Regional_Warehouse\", regional_warehouse_ininv)\n",
    "factory_agent = Agent(\"Factory\",factory_ininv)"
   ]
  },
  {
   "cell_type": "code",
   "execution_count": 57,
   "metadata": {
    "collapsed": false
   },
   "outputs": [],
   "source": [
    "# THIS CELL IS HARDCODED BUT TRENDS COME FROM A CSV\n",
    "# AND DEMANDS IS WHAT THE AGENTS WANT TO LEARN\n",
    "\n",
    "# One day of transactions\n",
    "# Hardcoding these - need to create seasonality for them\n",
    "customer_demand = 51\n",
    "field_supply = 60\n",
    "\n",
    "# Demands come from time t-1\n",
    "retail_demand = customer_demand  # hardcoded\n",
    "wholesale_demand = retail_demand + 25  # hardcoded\n",
    "regional_warehouse_demand = wholesale_demand + 25  # hardcoded\n",
    "factory_demand = regional_warehouse_demand - 25  # hardcoded"
   ]
  },
  {
   "cell_type": "code",
   "execution_count": 58,
   "metadata": {
    "collapsed": false
   },
   "outputs": [],
   "source": [
    "# Everyone pays for warehousing overnight\n",
    "factory_agent.pay_for_warehousing\n",
    "regional_warehouse_agent.pay_for_warehousing\n",
    "wholesale_agent.pay_for_warehousing\n",
    "retail_agent.pay_for_warehousing\n",
    "\n",
    "# Orders are fulfilled first time in the morning\n",
    "# Everyone gets their shippings at the same time\n",
    "\n",
    "fulfilled_to_factory = field_supply\n",
    "factory_agent.receive_upstream(fulfilled_to_factory)\n",
    "\n",
    "fulfilled_to_regional_warehouse = factory_agent.give_downstream(regional_warehouse_demand)\n",
    "regional_warehouse_agent.receive_upstream(fulfilled_to_regional_warehouse)\n",
    "\n",
    "fulfilled_to_wholesale = regional_warehouse_agent.give_downstream(wholesale_demand)\n",
    "wholesale_agent.receive_upstream(fulfilled_to_wholesale)\n",
    "\n",
    "fulfilled_to_retail = wholesale_agent.give_downstream(retail_demand)\n",
    "retail_agent.receive_upstream(fulfilled_to_retail)\n",
    "\n",
    "fulfilled_to_customer = retail_agent.give_downstream(customer_demand)"
   ]
  },
  {
   "cell_type": "code",
   "execution_count": 71,
   "metadata": {
    "collapsed": false
   },
   "outputs": [
    {
     "name": "stdout",
     "output_type": "stream",
     "text": [
      "Retail agent asked for 51 and received 51\n",
      "Wholesale agent asked for 76 and received 76\n",
      "Regional Warehouse agent asked for 101 and received 101\n",
      "Factory agent asked for 76 and received 60\n"
     ]
    }
   ],
   "source": [
    "print('Retail agent asked for ' + str(retail_demand) + ' and received ' + str(fulfilled_to_retail))\n",
    "print('Wholesale agent asked for ' + str(wholesale_demand) + ' and received ' + str(fulfilled_to_wholesale))\n",
    "print('Regional Warehouse agent asked for ' + str(regional_warehouse_demand) + ' and received ' + str(fulfilled_to_regional_warehouse))\n",
    "print('Factory agent asked for ' + str(factory_demand) + ' and received ' + str(fulfilled_to_factory))"
   ]
  },
  {
   "cell_type": "code",
   "execution_count": 70,
   "metadata": {
    "collapsed": false
   },
   "outputs": [
    {
     "data": {
      "text/plain": [
       "59"
      ]
     },
     "execution_count": 70,
     "metadata": {},
     "output_type": "execute_result"
    }
   ],
   "source": [
    "factory_agent.inventory"
   ]
  },
  {
   "cell_type": "code",
   "execution_count": null,
   "metadata": {
    "collapsed": false
   },
   "outputs": [],
   "source": []
  },
  {
   "cell_type": "code",
   "execution_count": null,
   "metadata": {
    "collapsed": false
   },
   "outputs": [],
   "source": []
  },
  {
   "cell_type": "code",
   "execution_count": null,
   "metadata": {
    "collapsed": false
   },
   "outputs": [],
   "source": []
  },
  {
   "cell_type": "code",
   "execution_count": null,
   "metadata": {
    "collapsed": false
   },
   "outputs": [],
   "source": []
  },
  {
   "cell_type": "code",
   "execution_count": null,
   "metadata": {
    "collapsed": true
   },
   "outputs": [],
   "source": []
  }
 ],
 "metadata": {
  "kernelspec": {
   "display_name": "Python 3",
   "language": "python",
   "name": "python3"
  },
  "language_info": {
   "codemirror_mode": {
    "name": "ipython",
    "version": 3
   },
   "file_extension": ".py",
   "mimetype": "text/x-python",
   "name": "python",
   "nbconvert_exporter": "python",
   "pygments_lexer": "ipython3",
   "version": "3.5.1"
  }
 },
 "nbformat": 4,
 "nbformat_minor": 0
}
