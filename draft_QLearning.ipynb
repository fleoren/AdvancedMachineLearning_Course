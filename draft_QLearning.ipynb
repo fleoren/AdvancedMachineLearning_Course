{
 "cells": [
  {
   "cell_type": "code",
   "execution_count": 1,
   "metadata": {
    "collapsed": false
   },
   "outputs": [],
   "source": [
    "## IMPORTANT NOTE: THIS RUNS ON PYTHON 3\n",
    "\n",
    "# This is me trying to do a very baby version of this:\n",
    "# http://cs.stançford.edu/people/karpathy/reinforcejs/gridworld_td.html\n",
    "\n",
    "import numpy as np\n",
    "%matplotlib inline\n",
    "import matplotlib\n",
    "from matplotlib import pyplot as plt"
   ]
  },
  {
   "cell_type": "code",
   "execution_count": 89,
   "metadata": {
    "collapsed": false
   },
   "outputs": [],
   "source": [
    "########## NECESSARY PARAMETERS ##########\n",
    "#### World parameters\n",
    "world_width = 7\n",
    "world_length = 10\n",
    "start = (3,0)\n",
    "goal = (3,7)\n",
    "# don't know about this one\n",
    "goal_reward = 100\n",
    "#### Learning parameters\n",
    "gam = 0.9\n",
    "# don't know about this one\n",
    "max_iter = 100"
   ]
  },
  {
   "cell_type": "code",
   "execution_count": 90,
   "metadata": {
    "collapsed": false
   },
   "outputs": [],
   "source": [
    "########## CREATE ENVIRONMENT ##########\n",
    "\n",
    "########### WIND\n",
    "wind_matrix = np.zeros((world_width,world_length))\n",
    "\n",
    "#values for each one of the columns\n",
    "wind_values = (0,0,0,1,1,1,2,2,1,0)\n",
    "\n",
    "for i in range(len(wind_values)):\n",
    "    x = np.ones(world_width) * wind_values[i]\n",
    "    wind_matrix[:,i] = x\n",
    "\n",
    "##########\n",
    "#reward matrix\n",
    "r_matrix = np.zeros((world_width,world_length))\n",
    "r_matrix[goal] = goal_reward  #this is the only info we have at the beginning\n",
    "#movement matrix\n",
    "m_matrix = np.chararray((world_width,world_length))\n",
    "m_matrix[goal] = ('X')  #this is the only info we have at the beginning"
   ]
  },
  {
   "cell_type": "markdown",
   "metadata": {},
   "source": [
    "### ¿Cómo se ve el mundo al comenzar?\n",
    "Lo único que conocemos en este momento es que la posición que asignamos como \"goal\" tiene recompensa.\n",
    "El agente no sabe esto: lo único que sabe es que tiene que encontrar un policy que maximice su valor."
   ]
  },
  {
   "cell_type": "code",
   "execution_count": 91,
   "metadata": {
    "collapsed": false
   },
   "outputs": [
    {
     "data": {
      "image/png": "[encoded data removed]",
      "text/plain": [
       "<matplotlib.figure.Figure at 0x7f5ddc978198>"
      ]
     },
     "metadata": {},
     "output_type": "display_data"
    }
   ],
   "source": [
    "heatmap = plt.pcolor(r_matrix,cmap=matplotlib.cm.Blues)"
   ]
  },
  {
   "cell_type": "code",
   "execution_count": 92,
   "metadata": {
    "collapsed": false
   },
   "outputs": [],
   "source": [
    "########## DEFINING ACTORS AND ENVIRONMENT, AND HOW THEY INTERACT ##########\n",
    "\n",
    "# Divide the world in squares and define rules about how to move - this includes the wind\n",
    "\n",
    "class Square:\n",
    "    def __init__(self,x,y):\n",
    "        self.x = x\n",
    "        self.y = y\n",
    "        self.wind = int(wind_matrix[x,y])\n",
    "\n",
    "# Possible actions\n",
    "possible_actions = [ 'N', 'E', 'S', 'W' , 'X']   #X means don't move   \n",
    "              \n",
    "# Convert [ N, E, S, W ] to actual coordi      \n",
    "def convertAction(action):\n",
    "    if(action == 'N'):\n",
    "        return Square(0,1)\n",
    "    elif(action == 'E'):\n",
    "        return Square(1,0)\n",
    "    elif(action == 'S'):\n",
    "        return Square(0,-1)\n",
    "    elif(action == 'W'):\n",
    "        return Square(-1,0)\n",
    "    else:\n",
    "        return Square(0,0)\n",
    "\n",
    "#let's see how the agent moves on the grid    \n",
    "def moveAgent(from_sq,action):\n",
    "    \n",
    "    movement = convertAction(action) # action is a char, see convertAction\n",
    "\n",
    "    to_sq = Square(from_sq.x + movement.x , from_sq.y + movement.y)\n",
    "    \n",
    "    #if it tries to leave the grid, it stays on the square where it was\n",
    "    if( (to_sq.x < 0) or (to_sq.x > world_width) or (to_sq.y < 0) or (to_sq.y > world_length) ):\n",
    "        moves_to = from_sq\n",
    "        \n",
    "    #wind can't take it out of the grid\n",
    "    elif( to_sq.y + to_sq.wind > world_width):\n",
    "        to_sq.y = world_width\n",
    "        moves_to = to_sq\n",
    "        \n",
    "    #else, we sum the value of wind to the y coordinate\n",
    "    else:\n",
    "        to_sq.y = to_sq.y + to_sq.wind\n",
    "        moves_to = to_sq\n",
    "        \n",
    "    return moves_to\n",
    "\n",
    "#get max reward for all possible actions\n",
    "def maxReward(state):\n",
    "    all_rewards = np.zeros(len(possible_actions))\n",
    "    rewards_for_index = []\n",
    "    \n",
    "    for i in range(len(possible_actions)):\n",
    "        moved_to = moveAgent( state, possible_actions[i] )\n",
    "        reward = r_matrix[moved_to.x,moved_to.y]\n",
    "        all_rewards[i] = reward\n",
    "        rewards_for_index.append(reward)\n",
    "        \n",
    "    max_reward = max(all_rewards)\n",
    "    \n",
    "    best_action_index = rewards_for_index.index(max_reward)\n",
    "    best_action = possible_actions[best_action_index]\n",
    "    \n",
    "    return max_reward, best_action\n",
    "        "
   ]
  },
  {
   "cell_type": "code",
   "execution_count": 93,
   "metadata": {
    "collapsed": false
   },
   "outputs": [],
   "source": [
    "# How rewards are updated\n",
    "# Q(state, action) = R(state, action) + Gamma * max[Q(next state, all actions)]\n",
    "def Q(state,action):\n",
    "    \n",
    "    if(state == goal):   #if he's at the goal, Q value doesn't update and he doesn't look for actions afterwards\n",
    "        Q_value = goal_reward\n",
    "        best_action = (0,0)\n",
    "    \n",
    "    else:\n",
    "        state_Square = Square( state[0] , state[1] )\n",
    "    \n",
    "        max_reward,best_action = maxReward(state_Square)\n",
    "    \n",
    "        if r_matrix[state] == 0:\n",
    "            Q_value = r_matrix[state] + gam * max_reward\n",
    "        else:\n",
    "            Q_value = r_matrix[state]\n",
    "        \n",
    "        r_matrix[state] = Q_value  #reward matrix is updated\n",
    "        m_matrix[state] = best_action #same for movement matrix\n",
    "    \n",
    "    return Q_value\n"
   ]
  },
  {
   "cell_type": "code",
   "execution_count": 94,
   "metadata": {
    "collapsed": false
   },
   "outputs": [
    {
     "name": "stdout",
     "output_type": "stream",
     "text": [
      "4\n",
      "4\n"
     ]
    }
   ],
   "source": [
    "from_sq = Square(3,3)\n",
    "moved_to = moveAgent(from_sq,'E')\n",
    "print(moved_to.x)\n",
    "print(moved_to.y)   #just testing to see if this works"
   ]
  },
  {
   "cell_type": "code",
   "execution_count": 95,
   "metadata": {
    "collapsed": false
   },
   "outputs": [],
   "source": [
    "for k in range(max_iter):\n",
    "    for i in range(6):\n",
    "        for j in range(9):\n",
    "            Q( (i,j), 'N' )"
   ]
  },
  {
   "cell_type": "code",
   "execution_count": 96,
   "metadata": {
    "collapsed": false
   },
   "outputs": [
    {
     "data": {
      "image/png": "[encoded data removed]",
      "text/plain": [
       "<matplotlib.figure.Figure at 0x7f5ddc978b70>"
      ]
     },
     "metadata": {},
     "output_type": "display_data"
    }
   ],
   "source": [
    "heatmap = plt.pcolor(r_matrix,cmap=matplotlib.cm.Blues)"
   ]
  },
  {
   "cell_type": "code",
   "execution_count": 87,
   "metadata": {
    "collapsed": false
   },
   "outputs": [
    {
     "data": {
      "text/plain": [
       "chararray([[b'N', b'N', b'N', b'N', b'E', b'E', b'E', b'E', b'E', ''],\n",
       "       [b'N', b'N', b'N', b'N', b'N', b'E', b'E', b'E', b'E', ''],\n",
       "       [b'N', b'N', b'N', b'N', b'N', b'N', b'E', b'E', b'E', ''],\n",
       "       [b'N', b'N', b'N', b'N', b'N', b'N', b'N', b'X', b'N', ''],\n",
       "       [b'N', b'N', b'N', b'N', b'N', b'N', b'W', b'W', b'W', ''],\n",
       "       [b'N', b'N', b'N', b'N', b'N', b'W', b'W', b'W', b'W', ''],\n",
       "       ['', '', '', '', '', '', '', '', '', '']], \n",
       "      dtype='|S1')"
      ]
     },
     "execution_count": 87,
     "metadata": {},
     "output_type": "execute_result"
    }
   ],
   "source": [
    "m_matrix"
   ]
  },
  {
   "cell_type": "code",
   "execution_count": null,
   "metadata": {
    "collapsed": false
   },
   "outputs": [],
   "source": []
  },
  {
   "cell_type": "code",
   "execution_count": null,
   "metadata": {
    "collapsed": false,
    "scrolled": true
   },
   "outputs": [],
   "source": []
  },
  {
   "cell_type": "code",
   "execution_count": null,
   "metadata": {
    "collapsed": false
   },
   "outputs": [],
   "source": []
  },
  {
   "cell_type": "code",
   "execution_count": 88,
   "metadata": {
    "collapsed": false
   },
   "outputs": [
    {
     "data": {
      "text/plain": [
       "90.0"
      ]
     },
     "execution_count": 88,
     "metadata": {},
     "output_type": "execute_result"
    }
   ],
   "source": [
    "Q((3,6),'N')  #just testing Q function"
   ]
  },
  {
   "cell_type": "code",
   "execution_count": null,
   "metadata": {
    "collapsed": true
   },
   "outputs": [],
   "source": []
  }
 ],
 "metadata": {
  "kernelspec": {
   "display_name": "Python 3",
   "language": "python",
   "name": "python3"
  },
  "language_info": {
   "codemirror_mode": {
    "name": "ipython",
    "version": 3
   },
   "file_extension": ".py",
   "mimetype": "text/x-python",
   "name": "python",
   "nbconvert_exporter": "python",
   "pygments_lexer": "ipython3",
   "version": "3.5.1"
  }
 },
 "nbformat": 4,
 "nbformat_minor": 0
}
